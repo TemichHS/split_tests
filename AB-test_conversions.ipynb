{
 "cells": [
  {
   "cell_type": "markdown",
   "id": "f8adfd50",
   "metadata": {},
   "source": [
    "# АБ-тест по увеличению конверсии в показы и клики"
   ]
  },
  {
   "cell_type": "markdown",
   "id": "daa4e1c9",
   "metadata": {},
   "source": [
    "**Задача:** проанализировать изменение метрик по странице лендинга после редизайна объявления.\n",
    "\n",
    "**Вывод:** В тестовой группе конверсия выросла на 10% (или 1.47 п.п.), CTR на 11% (0.38 п.п.), а отношение кликов к пользователю на 12.8% (2.2 п.п.).\n",
    "\n",
    "Во всех положительных изменениях была зафиксирована статистическая значимость, поэтому я рекомендую раскатывать новую версию объявления на всех пользователей."
   ]
  },
  {
   "cell_type": "markdown",
   "id": "ce4e1974",
   "metadata": {},
   "source": [
    "### Имортируем библиотеки"
   ]
  },
  {
   "cell_type": "code",
   "execution_count": 3,
   "id": "b0db870d",
   "metadata": {},
   "outputs": [],
   "source": [
    "import numpy as np\n",
    "import pandas as pd\n",
    "import seaborn as sns\n",
    "import matplotlib.pyplot as plt\n",
    "from statsmodels.stats.proportion import proportions_ztest"
   ]
  },
  {
   "cell_type": "markdown",
   "id": "1c34762d",
   "metadata": {},
   "source": [
    "### Проверим валидность данных"
   ]
  },
  {
   "cell_type": "code",
   "execution_count": 4,
   "id": "b59bb434",
   "metadata": {},
   "outputs": [],
   "source": [
    "df = pd.read_csv('ab_test_results_aggregated_views_clicks_2.csv')"
   ]
  },
  {
   "cell_type": "code",
   "execution_count": 3,
   "id": "570ead4e",
   "metadata": {},
   "outputs": [
    {
     "data": {
      "text/html": [
       "<div>\n",
       "<style scoped>\n",
       "    .dataframe tbody tr th:only-of-type {\n",
       "        vertical-align: middle;\n",
       "    }\n",
       "\n",
       "    .dataframe tbody tr th {\n",
       "        vertical-align: top;\n",
       "    }\n",
       "\n",
       "    .dataframe thead th {\n",
       "        text-align: right;\n",
       "    }\n",
       "</style>\n",
       "<table border=\"1\" class=\"dataframe\">\n",
       "  <thead>\n",
       "    <tr style=\"text-align: right;\">\n",
       "      <th></th>\n",
       "      <th>user_id</th>\n",
       "      <th>group</th>\n",
       "      <th>views</th>\n",
       "      <th>clicks</th>\n",
       "    </tr>\n",
       "  </thead>\n",
       "  <tbody>\n",
       "    <tr>\n",
       "      <th>0</th>\n",
       "      <td>1</td>\n",
       "      <td>control</td>\n",
       "      <td>10.0</td>\n",
       "      <td>0.0</td>\n",
       "    </tr>\n",
       "    <tr>\n",
       "      <th>1</th>\n",
       "      <td>2</td>\n",
       "      <td>control</td>\n",
       "      <td>1.0</td>\n",
       "      <td>0.0</td>\n",
       "    </tr>\n",
       "    <tr>\n",
       "      <th>2</th>\n",
       "      <td>3</td>\n",
       "      <td>control</td>\n",
       "      <td>1.0</td>\n",
       "      <td>0.0</td>\n",
       "    </tr>\n",
       "    <tr>\n",
       "      <th>3</th>\n",
       "      <td>4</td>\n",
       "      <td>control</td>\n",
       "      <td>2.0</td>\n",
       "      <td>0.0</td>\n",
       "    </tr>\n",
       "    <tr>\n",
       "      <th>4</th>\n",
       "      <td>5</td>\n",
       "      <td>control</td>\n",
       "      <td>3.0</td>\n",
       "      <td>0.0</td>\n",
       "    </tr>\n",
       "    <tr>\n",
       "      <th>...</th>\n",
       "      <td>...</td>\n",
       "      <td>...</td>\n",
       "      <td>...</td>\n",
       "      <td>...</td>\n",
       "    </tr>\n",
       "    <tr>\n",
       "      <th>119995</th>\n",
       "      <td>119996</td>\n",
       "      <td>test</td>\n",
       "      <td>9.0</td>\n",
       "      <td>0.0</td>\n",
       "    </tr>\n",
       "    <tr>\n",
       "      <th>119996</th>\n",
       "      <td>119997</td>\n",
       "      <td>test</td>\n",
       "      <td>2.0</td>\n",
       "      <td>1.0</td>\n",
       "    </tr>\n",
       "    <tr>\n",
       "      <th>119997</th>\n",
       "      <td>119998</td>\n",
       "      <td>test</td>\n",
       "      <td>20.0</td>\n",
       "      <td>1.0</td>\n",
       "    </tr>\n",
       "    <tr>\n",
       "      <th>119998</th>\n",
       "      <td>119999</td>\n",
       "      <td>test</td>\n",
       "      <td>6.0</td>\n",
       "      <td>1.0</td>\n",
       "    </tr>\n",
       "    <tr>\n",
       "      <th>119999</th>\n",
       "      <td>120000</td>\n",
       "      <td>test</td>\n",
       "      <td>2.0</td>\n",
       "      <td>0.0</td>\n",
       "    </tr>\n",
       "  </tbody>\n",
       "</table>\n",
       "<p>120000 rows × 4 columns</p>\n",
       "</div>"
      ],
      "text/plain": [
       "        user_id    group  views  clicks\n",
       "0             1  control   10.0     0.0\n",
       "1             2  control    1.0     0.0\n",
       "2             3  control    1.0     0.0\n",
       "3             4  control    2.0     0.0\n",
       "4             5  control    3.0     0.0\n",
       "...         ...      ...    ...     ...\n",
       "119995   119996     test    9.0     0.0\n",
       "119996   119997     test    2.0     1.0\n",
       "119997   119998     test   20.0     1.0\n",
       "119998   119999     test    6.0     1.0\n",
       "119999   120000     test    2.0     0.0\n",
       "\n",
       "[120000 rows x 4 columns]"
      ]
     },
     "execution_count": 3,
     "metadata": {},
     "output_type": "execute_result"
    }
   ],
   "source": [
    "df"
   ]
  },
  {
   "cell_type": "code",
   "execution_count": 4,
   "id": "5f28d59d",
   "metadata": {},
   "outputs": [
    {
     "name": "stdout",
     "output_type": "stream",
     "text": [
      "<class 'pandas.core.frame.DataFrame'>\n",
      "RangeIndex: 120000 entries, 0 to 119999\n",
      "Data columns (total 4 columns):\n",
      " #   Column   Non-Null Count   Dtype  \n",
      "---  ------   --------------   -----  \n",
      " 0   user_id  120000 non-null  int64  \n",
      " 1   group    120000 non-null  object \n",
      " 2   views    120000 non-null  float64\n",
      " 3   clicks   120000 non-null  float64\n",
      "dtypes: float64(2), int64(1), object(1)\n",
      "memory usage: 3.7+ MB\n"
     ]
    }
   ],
   "source": [
    "df.info()"
   ]
  },
  {
   "cell_type": "code",
   "execution_count": 185,
   "id": "e87ba88f",
   "metadata": {},
   "outputs": [
    {
     "data": {
      "text/html": [
       "<div>\n",
       "<style scoped>\n",
       "    .dataframe tbody tr th:only-of-type {\n",
       "        vertical-align: middle;\n",
       "    }\n",
       "\n",
       "    .dataframe tbody tr th {\n",
       "        vertical-align: top;\n",
       "    }\n",
       "\n",
       "    .dataframe thead th {\n",
       "        text-align: right;\n",
       "    }\n",
       "</style>\n",
       "<table border=\"1\" class=\"dataframe\">\n",
       "  <thead>\n",
       "    <tr style=\"text-align: right;\">\n",
       "      <th></th>\n",
       "      <th>user_id</th>\n",
       "      <th>group</th>\n",
       "      <th>views</th>\n",
       "      <th>clicks</th>\n",
       "    </tr>\n",
       "  </thead>\n",
       "  <tbody>\n",
       "  </tbody>\n",
       "</table>\n",
       "</div>"
      ],
      "text/plain": [
       "Empty DataFrame\n",
       "Columns: [user_id, group, views, clicks]\n",
       "Index: []"
      ]
     },
     "execution_count": 185,
     "metadata": {},
     "output_type": "execute_result"
    }
   ],
   "source": [
    "df[df.duplicated()]"
   ]
  },
  {
   "cell_type": "code",
   "execution_count": 5,
   "id": "a29db041",
   "metadata": {},
   "outputs": [
    {
     "data": {
      "text/html": [
       "<div>\n",
       "<style scoped>\n",
       "    .dataframe tbody tr th:only-of-type {\n",
       "        vertical-align: middle;\n",
       "    }\n",
       "\n",
       "    .dataframe tbody tr th {\n",
       "        vertical-align: top;\n",
       "    }\n",
       "\n",
       "    .dataframe thead th {\n",
       "        text-align: right;\n",
       "    }\n",
       "</style>\n",
       "<table border=\"1\" class=\"dataframe\">\n",
       "  <thead>\n",
       "    <tr style=\"text-align: right;\">\n",
       "      <th></th>\n",
       "      <th>user_id</th>\n",
       "      <th>views</th>\n",
       "      <th>clicks</th>\n",
       "    </tr>\n",
       "  </thead>\n",
       "  <tbody>\n",
       "    <tr>\n",
       "      <th>count</th>\n",
       "      <td>120000.000000</td>\n",
       "      <td>120000.000000</td>\n",
       "      <td>120000.000000</td>\n",
       "    </tr>\n",
       "    <tr>\n",
       "      <th>mean</th>\n",
       "      <td>60000.500000</td>\n",
       "      <td>4.991075</td>\n",
       "      <td>0.182692</td>\n",
       "    </tr>\n",
       "    <tr>\n",
       "      <th>std</th>\n",
       "      <td>34641.160489</td>\n",
       "      <td>5.915200</td>\n",
       "      <td>0.472547</td>\n",
       "    </tr>\n",
       "    <tr>\n",
       "      <th>min</th>\n",
       "      <td>1.000000</td>\n",
       "      <td>1.000000</td>\n",
       "      <td>0.000000</td>\n",
       "    </tr>\n",
       "    <tr>\n",
       "      <th>25%</th>\n",
       "      <td>30000.750000</td>\n",
       "      <td>2.000000</td>\n",
       "      <td>0.000000</td>\n",
       "    </tr>\n",
       "    <tr>\n",
       "      <th>50%</th>\n",
       "      <td>60000.500000</td>\n",
       "      <td>3.000000</td>\n",
       "      <td>0.000000</td>\n",
       "    </tr>\n",
       "    <tr>\n",
       "      <th>75%</th>\n",
       "      <td>90000.250000</td>\n",
       "      <td>6.000000</td>\n",
       "      <td>0.000000</td>\n",
       "    </tr>\n",
       "    <tr>\n",
       "      <th>max</th>\n",
       "      <td>120000.000000</td>\n",
       "      <td>205.000000</td>\n",
       "      <td>9.000000</td>\n",
       "    </tr>\n",
       "  </tbody>\n",
       "</table>\n",
       "</div>"
      ],
      "text/plain": [
       "             user_id          views         clicks\n",
       "count  120000.000000  120000.000000  120000.000000\n",
       "mean    60000.500000       4.991075       0.182692\n",
       "std     34641.160489       5.915200       0.472547\n",
       "min         1.000000       1.000000       0.000000\n",
       "25%     30000.750000       2.000000       0.000000\n",
       "50%     60000.500000       3.000000       0.000000\n",
       "75%     90000.250000       6.000000       0.000000\n",
       "max    120000.000000     205.000000       9.000000"
      ]
     },
     "execution_count": 5,
     "metadata": {},
     "output_type": "execute_result"
    }
   ],
   "source": [
    "df.describe()"
   ]
  },
  {
   "cell_type": "code",
   "execution_count": 6,
   "id": "f4993693",
   "metadata": {},
   "outputs": [
    {
     "data": {
      "text/plain": [
       "120000"
      ]
     },
     "execution_count": 6,
     "metadata": {},
     "output_type": "execute_result"
    }
   ],
   "source": [
    "df['user_id'].nunique()"
   ]
  },
  {
   "cell_type": "code",
   "execution_count": 7,
   "id": "af78d098",
   "metadata": {},
   "outputs": [
    {
     "data": {
      "text/html": [
       "<div>\n",
       "<style scoped>\n",
       "    .dataframe tbody tr th:only-of-type {\n",
       "        vertical-align: middle;\n",
       "    }\n",
       "\n",
       "    .dataframe tbody tr th {\n",
       "        vertical-align: top;\n",
       "    }\n",
       "\n",
       "    .dataframe thead th {\n",
       "        text-align: right;\n",
       "    }\n",
       "</style>\n",
       "<table border=\"1\" class=\"dataframe\">\n",
       "  <thead>\n",
       "    <tr style=\"text-align: right;\">\n",
       "      <th></th>\n",
       "      <th>count</th>\n",
       "      <th>nunique</th>\n",
       "    </tr>\n",
       "    <tr>\n",
       "      <th>group</th>\n",
       "      <th></th>\n",
       "      <th></th>\n",
       "    </tr>\n",
       "  </thead>\n",
       "  <tbody>\n",
       "    <tr>\n",
       "      <th>control</th>\n",
       "      <td>60000</td>\n",
       "      <td>60000</td>\n",
       "    </tr>\n",
       "    <tr>\n",
       "      <th>test</th>\n",
       "      <td>60000</td>\n",
       "      <td>60000</td>\n",
       "    </tr>\n",
       "  </tbody>\n",
       "</table>\n",
       "</div>"
      ],
      "text/plain": [
       "         count  nunique\n",
       "group                  \n",
       "control  60000    60000\n",
       "test     60000    60000"
      ]
     },
     "execution_count": 7,
     "metadata": {},
     "output_type": "execute_result"
    }
   ],
   "source": [
    "df.groupby('group')['user_id'].agg(['count', 'nunique'])"
   ]
  },
  {
   "cell_type": "markdown",
   "id": "3b566f3b",
   "metadata": {},
   "source": [
    "Отлично, в датасете нет ни дубликатов, ни пропущенных значений, ни пользователей попавших сразу в обе группы.\n",
    "\n",
    "Изучим сводку:"
   ]
  },
  {
   "cell_type": "code",
   "execution_count": 8,
   "id": "8b78247e",
   "metadata": {},
   "outputs": [
    {
     "data": {
      "text/html": [
       "<div>\n",
       "<style scoped>\n",
       "    .dataframe tbody tr th:only-of-type {\n",
       "        vertical-align: middle;\n",
       "    }\n",
       "\n",
       "    .dataframe tbody tr th {\n",
       "        vertical-align: top;\n",
       "    }\n",
       "\n",
       "    .dataframe thead tr th {\n",
       "        text-align: left;\n",
       "    }\n",
       "\n",
       "    .dataframe thead tr:last-of-type th {\n",
       "        text-align: right;\n",
       "    }\n",
       "</style>\n",
       "<table border=\"1\" class=\"dataframe\">\n",
       "  <thead>\n",
       "    <tr>\n",
       "      <th></th>\n",
       "      <th colspan=\"6\" halign=\"left\">views</th>\n",
       "      <th colspan=\"6\" halign=\"left\">clicks</th>\n",
       "    </tr>\n",
       "    <tr>\n",
       "      <th></th>\n",
       "      <th>mean</th>\n",
       "      <th>median</th>\n",
       "      <th>std</th>\n",
       "      <th>min</th>\n",
       "      <th>max</th>\n",
       "      <th>sum</th>\n",
       "      <th>mean</th>\n",
       "      <th>median</th>\n",
       "      <th>std</th>\n",
       "      <th>min</th>\n",
       "      <th>max</th>\n",
       "      <th>sum</th>\n",
       "    </tr>\n",
       "    <tr>\n",
       "      <th>group</th>\n",
       "      <th></th>\n",
       "      <th></th>\n",
       "      <th></th>\n",
       "      <th></th>\n",
       "      <th></th>\n",
       "      <th></th>\n",
       "      <th></th>\n",
       "      <th></th>\n",
       "      <th></th>\n",
       "      <th></th>\n",
       "      <th></th>\n",
       "      <th></th>\n",
       "    </tr>\n",
       "  </thead>\n",
       "  <tbody>\n",
       "    <tr>\n",
       "      <th>control</th>\n",
       "      <td>4.95240</td>\n",
       "      <td>3.0</td>\n",
       "      <td>5.781752</td>\n",
       "      <td>1.0</td>\n",
       "      <td>131.0</td>\n",
       "      <td>297144.0</td>\n",
       "      <td>0.171717</td>\n",
       "      <td>0.0</td>\n",
       "      <td>0.453799</td>\n",
       "      <td>0.0</td>\n",
       "      <td>7.0</td>\n",
       "      <td>10303.0</td>\n",
       "    </tr>\n",
       "    <tr>\n",
       "      <th>test</th>\n",
       "      <td>5.02975</td>\n",
       "      <td>3.0</td>\n",
       "      <td>6.045503</td>\n",
       "      <td>1.0</td>\n",
       "      <td>205.0</td>\n",
       "      <td>301785.0</td>\n",
       "      <td>0.193667</td>\n",
       "      <td>0.0</td>\n",
       "      <td>0.490337</td>\n",
       "      <td>0.0</td>\n",
       "      <td>9.0</td>\n",
       "      <td>11620.0</td>\n",
       "    </tr>\n",
       "  </tbody>\n",
       "</table>\n",
       "</div>"
      ],
      "text/plain": [
       "           views                                           clicks         \\\n",
       "            mean median       std  min    max       sum      mean median   \n",
       "group                                                                      \n",
       "control  4.95240    3.0  5.781752  1.0  131.0  297144.0  0.171717    0.0   \n",
       "test     5.02975    3.0  6.045503  1.0  205.0  301785.0  0.193667    0.0   \n",
       "\n",
       "                                      \n",
       "              std  min  max      sum  \n",
       "group                                 \n",
       "control  0.453799  0.0  7.0  10303.0  \n",
       "test     0.490337  0.0  9.0  11620.0  "
      ]
     },
     "execution_count": 8,
     "metadata": {},
     "output_type": "execute_result"
    }
   ],
   "source": [
    "df.groupby('group')[['views', 'clicks']].agg(['mean', 'median', 'std', 'min', 'max', 'sum'])"
   ]
  },
  {
   "cell_type": "markdown",
   "id": "50b5e4cc",
   "metadata": {},
   "source": [
    "Посмотрим еще, почему у столбцов views и clicks нецелочисленный тип данных, и есть ли там действительно не целые числа (а их быть не должно)."
   ]
  },
  {
   "cell_type": "code",
   "execution_count": 18,
   "id": "f2b44707",
   "metadata": {},
   "outputs": [
    {
     "data": {
      "text/html": [
       "<div>\n",
       "<style scoped>\n",
       "    .dataframe tbody tr th:only-of-type {\n",
       "        vertical-align: middle;\n",
       "    }\n",
       "\n",
       "    .dataframe tbody tr th {\n",
       "        vertical-align: top;\n",
       "    }\n",
       "\n",
       "    .dataframe thead th {\n",
       "        text-align: right;\n",
       "    }\n",
       "</style>\n",
       "<table border=\"1\" class=\"dataframe\">\n",
       "  <thead>\n",
       "    <tr style=\"text-align: right;\">\n",
       "      <th></th>\n",
       "      <th>user_id</th>\n",
       "      <th>group</th>\n",
       "      <th>views</th>\n",
       "      <th>clicks</th>\n",
       "    </tr>\n",
       "  </thead>\n",
       "  <tbody>\n",
       "  </tbody>\n",
       "</table>\n",
       "</div>"
      ],
      "text/plain": [
       "Empty DataFrame\n",
       "Columns: [user_id, group, views, clicks]\n",
       "Index: []"
      ]
     },
     "execution_count": 18,
     "metadata": {},
     "output_type": "execute_result"
    }
   ],
   "source": [
    "df[df['views'] * 10 % 10 != 0]"
   ]
  },
  {
   "cell_type": "code",
   "execution_count": 17,
   "id": "f8a663f0",
   "metadata": {},
   "outputs": [
    {
     "data": {
      "text/html": [
       "<div>\n",
       "<style scoped>\n",
       "    .dataframe tbody tr th:only-of-type {\n",
       "        vertical-align: middle;\n",
       "    }\n",
       "\n",
       "    .dataframe tbody tr th {\n",
       "        vertical-align: top;\n",
       "    }\n",
       "\n",
       "    .dataframe thead th {\n",
       "        text-align: right;\n",
       "    }\n",
       "</style>\n",
       "<table border=\"1\" class=\"dataframe\">\n",
       "  <thead>\n",
       "    <tr style=\"text-align: right;\">\n",
       "      <th></th>\n",
       "      <th>user_id</th>\n",
       "      <th>group</th>\n",
       "      <th>views</th>\n",
       "      <th>clicks</th>\n",
       "    </tr>\n",
       "  </thead>\n",
       "  <tbody>\n",
       "  </tbody>\n",
       "</table>\n",
       "</div>"
      ],
      "text/plain": [
       "Empty DataFrame\n",
       "Columns: [user_id, group, views, clicks]\n",
       "Index: []"
      ]
     },
     "execution_count": 17,
     "metadata": {},
     "output_type": "execute_result"
    }
   ],
   "source": [
    "df[df['clicks'] * 10 % 10 != 0]"
   ]
  },
  {
   "cell_type": "markdown",
   "id": "725f878e",
   "metadata": {},
   "source": [
    "Все числа натуральные, тогда сразу приведем их к интам."
   ]
  },
  {
   "cell_type": "code",
   "execution_count": 19,
   "id": "df26fcc8",
   "metadata": {},
   "outputs": [],
   "source": [
    "df['views'] = df['views'].astype('int64')\n",
    "df['clicks'] = df['clicks'].astype('int64')"
   ]
  },
  {
   "cell_type": "code",
   "execution_count": 20,
   "id": "4694c759",
   "metadata": {},
   "outputs": [
    {
     "data": {
      "text/html": [
       "<div>\n",
       "<style scoped>\n",
       "    .dataframe tbody tr th:only-of-type {\n",
       "        vertical-align: middle;\n",
       "    }\n",
       "\n",
       "    .dataframe tbody tr th {\n",
       "        vertical-align: top;\n",
       "    }\n",
       "\n",
       "    .dataframe thead th {\n",
       "        text-align: right;\n",
       "    }\n",
       "</style>\n",
       "<table border=\"1\" class=\"dataframe\">\n",
       "  <thead>\n",
       "    <tr style=\"text-align: right;\">\n",
       "      <th></th>\n",
       "      <th>user_id</th>\n",
       "      <th>group</th>\n",
       "      <th>views</th>\n",
       "      <th>clicks</th>\n",
       "    </tr>\n",
       "  </thead>\n",
       "  <tbody>\n",
       "    <tr>\n",
       "      <th>0</th>\n",
       "      <td>1</td>\n",
       "      <td>control</td>\n",
       "      <td>10</td>\n",
       "      <td>0</td>\n",
       "    </tr>\n",
       "    <tr>\n",
       "      <th>1</th>\n",
       "      <td>2</td>\n",
       "      <td>control</td>\n",
       "      <td>1</td>\n",
       "      <td>0</td>\n",
       "    </tr>\n",
       "    <tr>\n",
       "      <th>2</th>\n",
       "      <td>3</td>\n",
       "      <td>control</td>\n",
       "      <td>1</td>\n",
       "      <td>0</td>\n",
       "    </tr>\n",
       "  </tbody>\n",
       "</table>\n",
       "</div>"
      ],
      "text/plain": [
       "   user_id    group  views  clicks\n",
       "0        1  control     10       0\n",
       "1        2  control      1       0\n",
       "2        3  control      1       0"
      ]
     },
     "execution_count": 20,
     "metadata": {},
     "output_type": "execute_result"
    }
   ],
   "source": [
    "df.head(3)"
   ]
  },
  {
   "cell_type": "code",
   "execution_count": 21,
   "id": "1d7bddcc",
   "metadata": {},
   "outputs": [
    {
     "name": "stdout",
     "output_type": "stream",
     "text": [
      "<class 'pandas.core.frame.DataFrame'>\n",
      "RangeIndex: 120000 entries, 0 to 119999\n",
      "Data columns (total 4 columns):\n",
      " #   Column   Non-Null Count   Dtype \n",
      "---  ------   --------------   ----- \n",
      " 0   user_id  120000 non-null  int64 \n",
      " 1   group    120000 non-null  object\n",
      " 2   views    120000 non-null  int64 \n",
      " 3   clicks   120000 non-null  int64 \n",
      "dtypes: int64(3), object(1)\n",
      "memory usage: 3.7+ MB\n"
     ]
    }
   ],
   "source": [
    "df.info()"
   ]
  },
  {
   "cell_type": "markdown",
   "id": "f34b5d23",
   "metadata": {},
   "source": [
    "Теперь посмотрим как распределены показы и клики в обеих группах на графике."
   ]
  },
  {
   "cell_type": "code",
   "execution_count": 28,
   "id": "1758edb4",
   "metadata": {},
   "outputs": [
    {
     "data": {
      "image/png": "[encoded data removed]",
      "text/plain": [
       "<Figure size 640x480 with 1 Axes>"
      ]
     },
     "metadata": {},
     "output_type": "display_data"
    }
   ],
   "source": [
    "sns.boxplot(df, x='group', y='views');"
   ]
  },
  {
   "cell_type": "markdown",
   "id": "c1ad80ab",
   "metadata": {},
   "source": [
    "Отсечем последний процентиль, чтобы стало поменьше выбросов."
   ]
  },
  {
   "cell_type": "code",
   "execution_count": 29,
   "id": "1972bd93",
   "metadata": {},
   "outputs": [
    {
     "data": {
      "text/html": [
       "<div>\n",
       "<style scoped>\n",
       "    .dataframe tbody tr th:only-of-type {\n",
       "        vertical-align: middle;\n",
       "    }\n",
       "\n",
       "    .dataframe tbody tr th {\n",
       "        vertical-align: top;\n",
       "    }\n",
       "\n",
       "    .dataframe thead th {\n",
       "        text-align: right;\n",
       "    }\n",
       "</style>\n",
       "<table border=\"1\" class=\"dataframe\">\n",
       "  <thead>\n",
       "    <tr style=\"text-align: right;\">\n",
       "      <th></th>\n",
       "      <th>views</th>\n",
       "      <th>clicks</th>\n",
       "    </tr>\n",
       "    <tr>\n",
       "      <th>group</th>\n",
       "      <th></th>\n",
       "      <th></th>\n",
       "    </tr>\n",
       "  </thead>\n",
       "  <tbody>\n",
       "    <tr>\n",
       "      <th>control</th>\n",
       "      <td>28.0</td>\n",
       "      <td>2.0</td>\n",
       "    </tr>\n",
       "    <tr>\n",
       "      <th>test</th>\n",
       "      <td>28.0</td>\n",
       "      <td>2.0</td>\n",
       "    </tr>\n",
       "  </tbody>\n",
       "</table>\n",
       "</div>"
      ],
      "text/plain": [
       "         views  clicks\n",
       "group                 \n",
       "control   28.0     2.0\n",
       "test      28.0     2.0"
      ]
     },
     "execution_count": 29,
     "metadata": {},
     "output_type": "execute_result"
    }
   ],
   "source": [
    "df.groupby('group')[['views', 'clicks']].quantile(0.99)"
   ]
  },
  {
   "cell_type": "code",
   "execution_count": 30,
   "id": "19d6b7f7",
   "metadata": {},
   "outputs": [],
   "source": [
    "df2 = df[df['views'] < 29]"
   ]
  },
  {
   "cell_type": "code",
   "execution_count": 32,
   "id": "1c355744",
   "metadata": {},
   "outputs": [
    {
     "data": {
      "image/png": "[encoded data removed]",
      "text/plain": [
       "<Figure size 1000x400 with 2 Axes>"
      ]
     },
     "metadata": {},
     "output_type": "display_data"
    }
   ],
   "source": [
    "plt.figure(figsize=(10, 4), layout='tight')\n",
    "plt.suptitle('Распределение просмотров по группам')\n",
    "\n",
    "plt.subplot(1, 2, 1)\n",
    "sns.boxplot(df2, x='group', y='views')\n",
    "\n",
    "plt.subplot(1, 2, 2)\n",
    "sns.histplot(df2, x='views', hue='group', discrete=True)\n",
    "\n",
    "plt.show()"
   ]
  },
  {
   "cell_type": "markdown",
   "id": "134c086c",
   "metadata": {},
   "source": [
    "И посмотрим сводку без этих выбросов."
   ]
  },
  {
   "cell_type": "code",
   "execution_count": 157,
   "id": "edb255ea",
   "metadata": {},
   "outputs": [
    {
     "data": {
      "text/html": [
       "<div>\n",
       "<style scoped>\n",
       "    .dataframe tbody tr th:only-of-type {\n",
       "        vertical-align: middle;\n",
       "    }\n",
       "\n",
       "    .dataframe tbody tr th {\n",
       "        vertical-align: top;\n",
       "    }\n",
       "\n",
       "    .dataframe thead tr th {\n",
       "        text-align: left;\n",
       "    }\n",
       "\n",
       "    .dataframe thead tr:last-of-type th {\n",
       "        text-align: right;\n",
       "    }\n",
       "</style>\n",
       "<table border=\"1\" class=\"dataframe\">\n",
       "  <thead>\n",
       "    <tr>\n",
       "      <th></th>\n",
       "      <th colspan=\"7\" halign=\"left\">views</th>\n",
       "      <th colspan=\"7\" halign=\"left\">clicks</th>\n",
       "    </tr>\n",
       "    <tr>\n",
       "      <th></th>\n",
       "      <th>mean</th>\n",
       "      <th>median</th>\n",
       "      <th>std</th>\n",
       "      <th>min</th>\n",
       "      <th>max</th>\n",
       "      <th>sum</th>\n",
       "      <th>count</th>\n",
       "      <th>mean</th>\n",
       "      <th>median</th>\n",
       "      <th>std</th>\n",
       "      <th>min</th>\n",
       "      <th>max</th>\n",
       "      <th>sum</th>\n",
       "      <th>count</th>\n",
       "    </tr>\n",
       "    <tr>\n",
       "      <th>group</th>\n",
       "      <th></th>\n",
       "      <th></th>\n",
       "      <th></th>\n",
       "      <th></th>\n",
       "      <th></th>\n",
       "      <th></th>\n",
       "      <th></th>\n",
       "      <th></th>\n",
       "      <th></th>\n",
       "      <th></th>\n",
       "      <th></th>\n",
       "      <th></th>\n",
       "      <th></th>\n",
       "      <th></th>\n",
       "    </tr>\n",
       "  </thead>\n",
       "  <tbody>\n",
       "    <tr>\n",
       "      <th>control</th>\n",
       "      <td>4.598698</td>\n",
       "      <td>3.0</td>\n",
       "      <td>4.237794</td>\n",
       "      <td>1</td>\n",
       "      <td>28</td>\n",
       "      <td>273342</td>\n",
       "      <td>59439</td>\n",
       "      <td>0.159373</td>\n",
       "      <td>0.0</td>\n",
       "      <td>0.418161</td>\n",
       "      <td>0</td>\n",
       "      <td>5</td>\n",
       "      <td>9473</td>\n",
       "      <td>59439</td>\n",
       "    </tr>\n",
       "    <tr>\n",
       "      <th>test</th>\n",
       "      <td>4.648790</td>\n",
       "      <td>3.0</td>\n",
       "      <td>4.272946</td>\n",
       "      <td>1</td>\n",
       "      <td>28</td>\n",
       "      <td>276166</td>\n",
       "      <td>59406</td>\n",
       "      <td>0.179763</td>\n",
       "      <td>0.0</td>\n",
       "      <td>0.450258</td>\n",
       "      <td>0</td>\n",
       "      <td>5</td>\n",
       "      <td>10679</td>\n",
       "      <td>59406</td>\n",
       "    </tr>\n",
       "  </tbody>\n",
       "</table>\n",
       "</div>"
      ],
      "text/plain": [
       "            views                                            clicks         \\\n",
       "             mean median       std min max     sum  count      mean median   \n",
       "group                                                                        \n",
       "control  4.598698    3.0  4.237794   1  28  273342  59439  0.159373    0.0   \n",
       "test     4.648790    3.0  4.272946   1  28  276166  59406  0.179763    0.0   \n",
       "\n",
       "                                         \n",
       "              std min max    sum  count  \n",
       "group                                    \n",
       "control  0.418161   0   5   9473  59439  \n",
       "test     0.450258   0   5  10679  59406  "
      ]
     },
     "execution_count": 157,
     "metadata": {},
     "output_type": "execute_result"
    }
   ],
   "source": [
    "df2.groupby('group')[['views', 'clicks']] \\\n",
    "    .agg(['mean', 'median', 'std', 'min', 'max', 'sum', 'count'])"
   ]
  },
  {
   "cell_type": "markdown",
   "id": "88c1bed2",
   "metadata": {},
   "source": [
    "Посмотрим на пользователей, которых мы выкинули."
   ]
  },
  {
   "cell_type": "code",
   "execution_count": 161,
   "id": "91a6ac52",
   "metadata": {},
   "outputs": [
    {
     "data": {
      "text/html": [
       "<div>\n",
       "<style scoped>\n",
       "    .dataframe tbody tr th:only-of-type {\n",
       "        vertical-align: middle;\n",
       "    }\n",
       "\n",
       "    .dataframe tbody tr th {\n",
       "        vertical-align: top;\n",
       "    }\n",
       "\n",
       "    .dataframe thead th {\n",
       "        text-align: right;\n",
       "    }\n",
       "</style>\n",
       "<table border=\"1\" class=\"dataframe\">\n",
       "  <thead>\n",
       "    <tr style=\"text-align: right;\">\n",
       "      <th></th>\n",
       "      <th>user_id</th>\n",
       "      <th>group</th>\n",
       "      <th>views</th>\n",
       "      <th>clicks</th>\n",
       "    </tr>\n",
       "  </thead>\n",
       "  <tbody>\n",
       "    <tr>\n",
       "      <th>19</th>\n",
       "      <td>20</td>\n",
       "      <td>control</td>\n",
       "      <td>31</td>\n",
       "      <td>2</td>\n",
       "    </tr>\n",
       "    <tr>\n",
       "      <th>193</th>\n",
       "      <td>194</td>\n",
       "      <td>control</td>\n",
       "      <td>31</td>\n",
       "      <td>0</td>\n",
       "    </tr>\n",
       "    <tr>\n",
       "      <th>196</th>\n",
       "      <td>197</td>\n",
       "      <td>control</td>\n",
       "      <td>64</td>\n",
       "      <td>1</td>\n",
       "    </tr>\n",
       "    <tr>\n",
       "      <th>227</th>\n",
       "      <td>228</td>\n",
       "      <td>control</td>\n",
       "      <td>30</td>\n",
       "      <td>1</td>\n",
       "    </tr>\n",
       "    <tr>\n",
       "      <th>322</th>\n",
       "      <td>323</td>\n",
       "      <td>control</td>\n",
       "      <td>37</td>\n",
       "      <td>2</td>\n",
       "    </tr>\n",
       "    <tr>\n",
       "      <th>...</th>\n",
       "      <td>...</td>\n",
       "      <td>...</td>\n",
       "      <td>...</td>\n",
       "      <td>...</td>\n",
       "    </tr>\n",
       "    <tr>\n",
       "      <th>119836</th>\n",
       "      <td>119837</td>\n",
       "      <td>test</td>\n",
       "      <td>33</td>\n",
       "      <td>2</td>\n",
       "    </tr>\n",
       "    <tr>\n",
       "      <th>119842</th>\n",
       "      <td>119843</td>\n",
       "      <td>test</td>\n",
       "      <td>31</td>\n",
       "      <td>0</td>\n",
       "    </tr>\n",
       "    <tr>\n",
       "      <th>119876</th>\n",
       "      <td>119877</td>\n",
       "      <td>test</td>\n",
       "      <td>49</td>\n",
       "      <td>1</td>\n",
       "    </tr>\n",
       "    <tr>\n",
       "      <th>119938</th>\n",
       "      <td>119939</td>\n",
       "      <td>test</td>\n",
       "      <td>51</td>\n",
       "      <td>0</td>\n",
       "    </tr>\n",
       "    <tr>\n",
       "      <th>119966</th>\n",
       "      <td>119967</td>\n",
       "      <td>test</td>\n",
       "      <td>32</td>\n",
       "      <td>1</td>\n",
       "    </tr>\n",
       "  </tbody>\n",
       "</table>\n",
       "<p>1155 rows × 4 columns</p>\n",
       "</div>"
      ],
      "text/plain": [
       "        user_id    group  views  clicks\n",
       "19           20  control     31       2\n",
       "193         194  control     31       0\n",
       "196         197  control     64       1\n",
       "227         228  control     30       1\n",
       "322         323  control     37       2\n",
       "...         ...      ...    ...     ...\n",
       "119836   119837     test     33       2\n",
       "119842   119843     test     31       0\n",
       "119876   119877     test     49       1\n",
       "119938   119939     test     51       0\n",
       "119966   119967     test     32       1\n",
       "\n",
       "[1155 rows x 4 columns]"
      ]
     },
     "execution_count": 161,
     "metadata": {},
     "output_type": "execute_result"
    }
   ],
   "source": [
    "outliers = df[~df['user_id'].isin(df2['user_id'])]\n",
    "outliers"
   ]
  },
  {
   "cell_type": "code",
   "execution_count": 165,
   "id": "f7890671",
   "metadata": {},
   "outputs": [
    {
     "data": {
      "text/plain": [
       "1    369\n",
       "0    287\n",
       "2    264\n",
       "3    131\n",
       "4     66\n",
       "5     21\n",
       "6     10\n",
       "7      5\n",
       "9      1\n",
       "8      1\n",
       "Name: clicks, dtype: int64"
      ]
     },
     "execution_count": 165,
     "metadata": {},
     "output_type": "execute_result"
    }
   ],
   "source": [
    "outliers['clicks'].value_counts()"
   ]
  },
  {
   "cell_type": "markdown",
   "id": "ffba5711",
   "metadata": {},
   "source": [
    "Думаю, что при расчете критериев я не буду выкидывать их из наблюдения. Они не выглядят аномально, 200 показов - вполне реальная цифра просмотра \"call-to-action\" реклам."
   ]
  },
  {
   "cell_type": "markdown",
   "id": "b727faf3",
   "metadata": {},
   "source": [
    "Теперь изучим клики, для наглядности я убрал все 0 на графиках, их очень много."
   ]
  },
  {
   "cell_type": "code",
   "execution_count": 40,
   "id": "a8d0a5b6",
   "metadata": {},
   "outputs": [
    {
     "data": {
      "text/plain": [
       "0    0.8456\n",
       "1    0.1320\n",
       "2    0.0180\n",
       "3    0.0031\n",
       "4    0.0008\n",
       "5    0.0002\n",
       "6    0.0001\n",
       "7    0.0000\n",
       "9    0.0000\n",
       "8    0.0000\n",
       "Name: clicks, dtype: float64"
      ]
     },
     "execution_count": 40,
     "metadata": {},
     "output_type": "execute_result"
    }
   ],
   "source": [
    "df['clicks'].value_counts(normalize=True).round(4)"
   ]
  },
  {
   "cell_type": "code",
   "execution_count": 34,
   "id": "fd6150db",
   "metadata": {},
   "outputs": [
    {
     "data": {
      "image/png": "[encoded data removed]",
      "text/plain": [
       "<Figure size 1000x400 with 2 Axes>"
      ]
     },
     "metadata": {},
     "output_type": "display_data"
    }
   ],
   "source": [
    "plt.figure(figsize=(10, 4), layout='tight')\n",
    "plt.suptitle('Распределение кликов по группам')\n",
    "\n",
    "plt.subplot(1, 2, 1)\n",
    "sns.boxplot(df[df['clicks'] != 0], x='group', y='clicks')\n",
    "\n",
    "plt.subplot(1, 2, 2)\n",
    "sns.histplot(df[df['clicks'] != 0], x='clicks', hue='group', discrete=True)\n",
    "\n",
    "plt.show()"
   ]
  },
  {
   "cell_type": "markdown",
   "id": "92a53309",
   "metadata": {},
   "source": [
    "### Проверка гипотез"
   ]
  },
  {
   "cell_type": "markdown",
   "id": "4b5f173e",
   "metadata": {},
   "source": [
    "Я выделил 3 основные метрики для сравнения:\n",
    "\n",
    "1) отношение кликов к просмотрам CTR (прокси-метрика)\n",
    "\n",
    "2) отношение кликов к пользователям (прокси-метрика)\n",
    "\n",
    "3) конверсия в клик (целевая метрика)\n",
    "\n",
    "Нам нужно поймать эффект в Конверсии в клик, при этом убедившись что остальные две метрики-отношения не просели."
   ]
  },
  {
   "cell_type": "code",
   "execution_count": 53,
   "id": "95230864",
   "metadata": {},
   "outputs": [
    {
     "name": "stdout",
     "output_type": "stream",
     "text": [
      "CTR in control group: 3.47 %\n",
      "CTR in test group: 3.85 %\n"
     ]
    }
   ],
   "source": [
    "total_clicks_control = df[df['group'] == 'control']['clicks'].sum()\n",
    "total_clicks_test = df[df['group'] == 'test']['clicks'].sum()\n",
    "\n",
    "total_views_control = df[df['group'] == 'control']['views'].sum()\n",
    "total_views_test = df[df['group'] == 'test']['views'].sum()\n",
    "\n",
    "cr_clicks_per_view_control = total_clicks_control / total_views_control\n",
    "cr_clicks_per_view_test = total_clicks_test / total_views_test\n",
    "\n",
    "print(f'CTR in control group: {round(cr_clicks_per_view_control * 100, 2)} %',\n",
    "      f'CTR in test group: {round(cr_clicks_per_view_test * 100, 2)} %', sep='\\n')"
   ]
  },
  {
   "cell_type": "code",
   "execution_count": 63,
   "id": "ca40d851",
   "metadata": {},
   "outputs": [
    {
     "name": "stdout",
     "output_type": "stream",
     "text": [
      "Clicks per user in control group: 17.17 %\n",
      "Clicks per user in test group: 19.37 %\n"
     ]
    }
   ],
   "source": [
    "total_users_control = df[df['group'] == 'control']['user_id'].nunique()\n",
    "total_users_test = df[df['group'] == 'test']['user_id'].nunique()\n",
    "\n",
    "cr_clicks_per_user_control = total_clicks_control / total_users_control\n",
    "cr_clicks_per_user_test = total_clicks_test / total_users_test\n",
    "\n",
    "print(f'Clicks per user in control group: {round(cr_clicks_per_user_control * 100, 2)} %',\n",
    "      f'Clicks per user in test group: {round(cr_clicks_per_user_test * 100, 2)} %', sep='\\n')"
   ]
  },
  {
   "cell_type": "code",
   "execution_count": 52,
   "id": "875de24a",
   "metadata": {},
   "outputs": [
    {
     "name": "stdout",
     "output_type": "stream",
     "text": [
      "CR users in control group: 14.7 %\n",
      "CR users in test group: 16.17 %\n"
     ]
    }
   ],
   "source": [
    "total_converted_users_control = len(df[(df['group'] == 'control') & (df['clicks'] > 0)])\n",
    "total_converted_users_test = len(df[(df['group'] == 'test') & (df['clicks'] > 0)])\n",
    "\n",
    "cr_users_control = total_converted_users_control / total_users_control\n",
    "cr_users_test = total_converted_users_test / total_users_test\n",
    "\n",
    "print(f'CR users in control group: {round(cr_users_control * 100, 2)} %',\n",
    "      f'CR users in test group: {round(cr_users_test * 100, 2)} %', sep='\\n')"
   ]
  },
  {
   "cell_type": "markdown",
   "id": "5ef5c029",
   "metadata": {},
   "source": [
    "Проверять гипотезы будем в обратном порядке, сначала посмотрим на изменение целевой метрики (сколько пользователей перешли по ссылке по отношению к общему числу пользователей, увидевших рекламу).\n",
    "\n",
    "**H0:** CR users control (14.7 %) = CR users test (16.17 %)\n",
    "\n",
    "**H1:** CR users control (14.7 %) != CR users test (16.17 %)\n",
    "\n",
    "Здесь я воспользуюсь обычным тестом пропорций."
   ]
  },
  {
   "cell_type": "code",
   "execution_count": 55,
   "id": "3fddcc7e",
   "metadata": {},
   "outputs": [
    {
     "data": {
      "text/plain": [
       "(1.7230183066501849e-12, True)"
      ]
     },
     "execution_count": 55,
     "metadata": {},
     "output_type": "execute_result"
    }
   ],
   "source": [
    "_, pval = proportions_ztest([total_converted_users_control, total_converted_users_test], \\\n",
    "                            [total_users_control, total_users_test])\n",
    "pval, pval < 0.05"
   ]
  },
  {
   "cell_type": "markdown",
   "id": "c3e2f849",
   "metadata": {},
   "source": [
    "Нулевая гипотеза отклонена. Статистически значимое изменение зафиксировано.\n",
    "\n",
    "Кстати, мы не знаем как был задизайнен этот тест. Но если предположить, что именно такой MDE мы и хотели поймать, то наш тест выдает 99% мощности в такой выборке. Для 80% мощноссти при уровне значимости 0.05 нам было бы достаточно 9200 наблюдений в каждой выборке. Будем считать, что мы ловили изменение в 0.57 п.п., что соответсвует 80% мощности и 60000 наблюдений в каждой выборке."
   ]
  },
  {
   "cell_type": "markdown",
   "id": "a7112d1a",
   "metadata": {},
   "source": [
    " "
   ]
  },
  {
   "cell_type": "markdown",
   "id": "5d1d3dec",
   "metadata": {},
   "source": [
    "Теперь посомтрим как изменилось отношение кликов к количеству пользователей, увидевших рекламу. Если эта метрика просела или не изменилась - это будет означать, что возможно мы привлекаем слишком много \"зевак\", которые просто так кликают по нашим объявлениям и тратят наш рекламный бюджет.\n",
    "\n",
    "Здесь замеряется метрика-отношение, т. е. выборки станут зависимыми - один пользователь (основная единица измерения в нашем эксперименте) мог несколько раз совершить клик. Обычный тест на пропорции может дать неверные результаты, но я все равно использую его в ввиду большой мощности теста.\n",
    "\n",
    "**H0:** Clicks per user control (17.17 %) = Clicks per user test (19.37 %)\n",
    "\n",
    "**H1:** Clicks per user control (17.17 %) != Clicks per user test (19.37 %)"
   ]
  },
  {
   "cell_type": "code",
   "execution_count": 62,
   "id": "76499693",
   "metadata": {},
   "outputs": [
    {
     "data": {
      "text/plain": [
       "(7.660738346471278e-23, True)"
      ]
     },
     "execution_count": 62,
     "metadata": {},
     "output_type": "execute_result"
    }
   ],
   "source": [
    "_, pval = proportions_ztest([total_clicks_control, total_clicks_test], [total_users_control, total_users_test])\n",
    "pval, pval < 0.05"
   ]
  },
  {
   "cell_type": "markdown",
   "id": "6ce58373",
   "metadata": {},
   "source": [
    "Нулевая гипотеза отклонена. Статистически значимое изменение зафиксировано.\n",
    "\n",
    "Отлично, с ростом конверсии расчет и отношение кликов на пользователя. Причем довольно пропорционально."
   ]
  },
  {
   "cell_type": "markdown",
   "id": "5c8ac061",
   "metadata": {},
   "source": [
    " \n",
    " "
   ]
  },
  {
   "cell_type": "markdown",
   "id": "dd2b4040",
   "metadata": {},
   "source": [
    "И, наконец, хорошо бы убедиться что CTR (количество кликов к показам) тоже растет. В ином случае это может означать, что для конверсии одного пользователя мы должны слишком часто показывать ему рекламу. Это тоже может сильно ударить по рекламному бюджету, и вовсе лишить нас профита от нововведения.\n",
    "\n",
    "Снова метрика-отношение, но все равно будем использовать тест пропорций.\n",
    "\n",
    "**H0:** CTR control (3.47 %) = CTR test (3.85 %)\n",
    "\n",
    "**H1:** CTR control (3.47 %) != CTR test (3.85 %)"
   ]
  },
  {
   "cell_type": "code",
   "execution_count": 180,
   "id": "2c0ecfe2",
   "metadata": {},
   "outputs": [
    {
     "data": {
      "text/plain": [
       "(2.522926540727e-15, True)"
      ]
     },
     "execution_count": 180,
     "metadata": {},
     "output_type": "execute_result"
    }
   ],
   "source": [
    "_, pval = proportions_ztest([total_clicks_control, total_clicks_test], [total_views_control, total_views_test])\n",
    "pval, pval < 0.05"
   ]
  },
  {
   "cell_type": "markdown",
   "id": "ae368794",
   "metadata": {},
   "source": [
    "Нулевая гипотеза отклонена. Статистически значимое изменение зафиксировано."
   ]
  },
  {
   "cell_type": "markdown",
   "id": "fb996f32",
   "metadata": {},
   "source": [
    "### Заключение"
   ]
  },
  {
   "cell_type": "markdown",
   "id": "8145aa5e",
   "metadata": {},
   "source": [
    "Мы действительно видим ощутимое изменение в конверсии пользователей (стат. значимое), и судя по изменению сопуствующих метрик, изменение выглядит довольно органично. В тестовой группе конверсия выросла на 10% (или 1.47 п.п.), CTR на 11% (0.38 п.п.), а отношение кликов к пользователю на 12.8% (2.2 п.п.).\n",
    "\n",
    "Во всех положительных изменениях была зафиксирована статистическая значимость, поэтому я рекомендую раскатывать новую версию объявления на всех пользователей."
   ]
  }
 ],
 "metadata": {
  "kernelspec": {
   "display_name": "Python 3 (ipykernel)",
   "language": "python",
   "name": "python3"
  },
  "language_info": {
   "codemirror_mode": {
    "name": "ipython",
    "version": 3
   },
   "file_extension": ".py",
   "mimetype": "text/x-python",
   "name": "python",
   "nbconvert_exporter": "python",
   "pygments_lexer": "ipython3",
   "version": "3.11.2"
  }
 },
 "nbformat": 4,
 "nbformat_minor": 5
}
