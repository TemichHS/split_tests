{
 "cells": [
  {
   "cell_type": "markdown",
   "id": "3703ff99",
   "metadata": {},
   "source": [
    "# A/B-тест двух версий рекламного объявления на сайте"
   ]
  },
  {
   "cell_type": "markdown",
   "id": "a334f33b",
   "metadata": {},
   "source": [
    "**Задача:** по собранным данным сделать вывод о том, какая версия рекламы приносит больше выручки и конверсии в покупку."
   ]
  },
  {
   "cell_type": "markdown",
   "id": "42e2df5f",
   "metadata": {},
   "source": [
    "**Вывод:** не рекомендуется выкатывать новую версию рекламы, лучше оставить имеющуюся."
   ]
  },
  {
   "cell_type": "markdown",
   "id": "fd8a5036",
   "metadata": {},
   "source": [
    " \n",
    " "
   ]
  },
  {
   "cell_type": "markdown",
   "id": "db8ab829",
   "metadata": {},
   "source": [
    "### Импортируем библиотеки и датасет."
   ]
  },
  {
   "cell_type": "code",
   "execution_count": 207,
   "id": "e17c0a1b",
   "metadata": {},
   "outputs": [],
   "source": [
    "import pandas as pd\n",
    "import numpy as np\n",
    "import matplotlib.pyplot as plt\n",
    "import seaborn as sns\n",
    "import scipy.stats as stats\n",
    "from statsmodels.stats.proportion import proportions_ztest\n",
    "from statsmodels.stats.weightstats import ztest\n",
    "import warnings\n",
    "\n",
    "warnings.filterwarnings('ignore')"
   ]
  },
  {
   "cell_type": "code",
   "execution_count": 5,
   "id": "6a769b44",
   "metadata": {},
   "outputs": [],
   "source": [
    "df = pd.read_csv('AB_Test_Results.csv')"
   ]
  },
  {
   "cell_type": "markdown",
   "id": "f6fe6c2f",
   "metadata": {},
   "source": [
    "### Изучаем, все ли в порядке со значениями."
   ]
  },
  {
   "cell_type": "code",
   "execution_count": 11,
   "id": "663914cd",
   "metadata": {},
   "outputs": [
    {
     "data": {
      "text/html": [
       "<div>\n",
       "<style scoped>\n",
       "    .dataframe tbody tr th:only-of-type {\n",
       "        vertical-align: middle;\n",
       "    }\n",
       "\n",
       "    .dataframe tbody tr th {\n",
       "        vertical-align: top;\n",
       "    }\n",
       "\n",
       "    .dataframe thead th {\n",
       "        text-align: right;\n",
       "    }\n",
       "</style>\n",
       "<table border=\"1\" class=\"dataframe\">\n",
       "  <thead>\n",
       "    <tr style=\"text-align: right;\">\n",
       "      <th></th>\n",
       "      <th>USER_ID</th>\n",
       "      <th>VARIANT_NAME</th>\n",
       "      <th>REVENUE</th>\n",
       "    </tr>\n",
       "  </thead>\n",
       "  <tbody>\n",
       "    <tr>\n",
       "      <th>0</th>\n",
       "      <td>737</td>\n",
       "      <td>variant</td>\n",
       "      <td>0.0</td>\n",
       "    </tr>\n",
       "    <tr>\n",
       "      <th>1</th>\n",
       "      <td>2423</td>\n",
       "      <td>control</td>\n",
       "      <td>0.0</td>\n",
       "    </tr>\n",
       "    <tr>\n",
       "      <th>2</th>\n",
       "      <td>9411</td>\n",
       "      <td>control</td>\n",
       "      <td>0.0</td>\n",
       "    </tr>\n",
       "    <tr>\n",
       "      <th>3</th>\n",
       "      <td>7311</td>\n",
       "      <td>control</td>\n",
       "      <td>0.0</td>\n",
       "    </tr>\n",
       "    <tr>\n",
       "      <th>4</th>\n",
       "      <td>6174</td>\n",
       "      <td>variant</td>\n",
       "      <td>0.0</td>\n",
       "    </tr>\n",
       "  </tbody>\n",
       "</table>\n",
       "</div>"
      ],
      "text/plain": [
       "   USER_ID VARIANT_NAME  REVENUE\n",
       "0      737      variant      0.0\n",
       "1     2423      control      0.0\n",
       "2     9411      control      0.0\n",
       "3     7311      control      0.0\n",
       "4     6174      variant      0.0"
      ]
     },
     "execution_count": 11,
     "metadata": {},
     "output_type": "execute_result"
    }
   ],
   "source": [
    "df.head()"
   ]
  },
  {
   "cell_type": "markdown",
   "id": "7c8d9913",
   "metadata": {},
   "source": [
    "**USER_ID** -- айди пользователя\n",
    "\n",
    "**VARIANT_NAME** -- контрольная/тестовая группа\n",
    "\n",
    "**REVENUE** -- выручка с пользователя"
   ]
  },
  {
   "cell_type": "code",
   "execution_count": 12,
   "id": "27dddd13",
   "metadata": {},
   "outputs": [
    {
     "data": {
      "text/html": [
       "<div>\n",
       "<style scoped>\n",
       "    .dataframe tbody tr th:only-of-type {\n",
       "        vertical-align: middle;\n",
       "    }\n",
       "\n",
       "    .dataframe tbody tr th {\n",
       "        vertical-align: top;\n",
       "    }\n",
       "\n",
       "    .dataframe thead th {\n",
       "        text-align: right;\n",
       "    }\n",
       "</style>\n",
       "<table border=\"1\" class=\"dataframe\">\n",
       "  <thead>\n",
       "    <tr style=\"text-align: right;\">\n",
       "      <th></th>\n",
       "      <th>USER_ID</th>\n",
       "      <th>VARIANT_NAME</th>\n",
       "      <th>REVENUE</th>\n",
       "    </tr>\n",
       "  </thead>\n",
       "  <tbody>\n",
       "    <tr>\n",
       "      <th>9995</th>\n",
       "      <td>1981</td>\n",
       "      <td>control</td>\n",
       "      <td>0.0</td>\n",
       "    </tr>\n",
       "    <tr>\n",
       "      <th>9996</th>\n",
       "      <td>502</td>\n",
       "      <td>variant</td>\n",
       "      <td>0.0</td>\n",
       "    </tr>\n",
       "    <tr>\n",
       "      <th>9997</th>\n",
       "      <td>9214</td>\n",
       "      <td>variant</td>\n",
       "      <td>0.0</td>\n",
       "    </tr>\n",
       "    <tr>\n",
       "      <th>9998</th>\n",
       "      <td>7741</td>\n",
       "      <td>control</td>\n",
       "      <td>0.0</td>\n",
       "    </tr>\n",
       "    <tr>\n",
       "      <th>9999</th>\n",
       "      <td>9468</td>\n",
       "      <td>control</td>\n",
       "      <td>0.0</td>\n",
       "    </tr>\n",
       "  </tbody>\n",
       "</table>\n",
       "</div>"
      ],
      "text/plain": [
       "      USER_ID VARIANT_NAME  REVENUE\n",
       "9995     1981      control      0.0\n",
       "9996      502      variant      0.0\n",
       "9997     9214      variant      0.0\n",
       "9998     7741      control      0.0\n",
       "9999     9468      control      0.0"
      ]
     },
     "execution_count": 12,
     "metadata": {},
     "output_type": "execute_result"
    }
   ],
   "source": [
    "df.tail()"
   ]
  },
  {
   "cell_type": "code",
   "execution_count": 15,
   "id": "75ef5409",
   "metadata": {},
   "outputs": [
    {
     "name": "stdout",
     "output_type": "stream",
     "text": [
      "<class 'pandas.core.frame.DataFrame'>\n",
      "RangeIndex: 10000 entries, 0 to 9999\n",
      "Data columns (total 3 columns):\n",
      " #   Column        Non-Null Count  Dtype  \n",
      "---  ------        --------------  -----  \n",
      " 0   USER_ID       10000 non-null  int64  \n",
      " 1   VARIANT_NAME  10000 non-null  object \n",
      " 2   REVENUE       10000 non-null  float64\n",
      "dtypes: float64(1), int64(1), object(1)\n",
      "memory usage: 234.5+ KB\n"
     ]
    }
   ],
   "source": [
    "df.info()"
   ]
  },
  {
   "cell_type": "code",
   "execution_count": 13,
   "id": "c859750e",
   "metadata": {},
   "outputs": [
    {
     "data": {
      "text/html": [
       "<div>\n",
       "<style scoped>\n",
       "    .dataframe tbody tr th:only-of-type {\n",
       "        vertical-align: middle;\n",
       "    }\n",
       "\n",
       "    .dataframe tbody tr th {\n",
       "        vertical-align: top;\n",
       "    }\n",
       "\n",
       "    .dataframe thead th {\n",
       "        text-align: right;\n",
       "    }\n",
       "</style>\n",
       "<table border=\"1\" class=\"dataframe\">\n",
       "  <thead>\n",
       "    <tr style=\"text-align: right;\">\n",
       "      <th></th>\n",
       "      <th>USER_ID</th>\n",
       "      <th>REVENUE</th>\n",
       "    </tr>\n",
       "  </thead>\n",
       "  <tbody>\n",
       "    <tr>\n",
       "      <th>count</th>\n",
       "      <td>10000.000000</td>\n",
       "      <td>10000.000000</td>\n",
       "    </tr>\n",
       "    <tr>\n",
       "      <th>mean</th>\n",
       "      <td>4981.080200</td>\n",
       "      <td>0.099447</td>\n",
       "    </tr>\n",
       "    <tr>\n",
       "      <th>std</th>\n",
       "      <td>2890.590115</td>\n",
       "      <td>2.318529</td>\n",
       "    </tr>\n",
       "    <tr>\n",
       "      <th>min</th>\n",
       "      <td>2.000000</td>\n",
       "      <td>0.000000</td>\n",
       "    </tr>\n",
       "    <tr>\n",
       "      <th>25%</th>\n",
       "      <td>2468.750000</td>\n",
       "      <td>0.000000</td>\n",
       "    </tr>\n",
       "    <tr>\n",
       "      <th>50%</th>\n",
       "      <td>4962.000000</td>\n",
       "      <td>0.000000</td>\n",
       "    </tr>\n",
       "    <tr>\n",
       "      <th>75%</th>\n",
       "      <td>7511.500000</td>\n",
       "      <td>0.000000</td>\n",
       "    </tr>\n",
       "    <tr>\n",
       "      <th>max</th>\n",
       "      <td>10000.000000</td>\n",
       "      <td>196.010000</td>\n",
       "    </tr>\n",
       "  </tbody>\n",
       "</table>\n",
       "</div>"
      ],
      "text/plain": [
       "            USER_ID       REVENUE\n",
       "count  10000.000000  10000.000000\n",
       "mean    4981.080200      0.099447\n",
       "std     2890.590115      2.318529\n",
       "min        2.000000      0.000000\n",
       "25%     2468.750000      0.000000\n",
       "50%     4962.000000      0.000000\n",
       "75%     7511.500000      0.000000\n",
       "max    10000.000000    196.010000"
      ]
     },
     "execution_count": 13,
     "metadata": {},
     "output_type": "execute_result"
    }
   ],
   "source": [
    "df.describe()"
   ]
  },
  {
   "cell_type": "markdown",
   "id": "5ea81baa",
   "metadata": {},
   "source": [
    "Сразу бросается в глаза, что количество записей больше количества пользователей."
   ]
  },
  {
   "cell_type": "code",
   "execution_count": 26,
   "id": "ad78a67f",
   "metadata": {},
   "outputs": [
    {
     "data": {
      "text/plain": [
       "USER_ID         6324\n",
       "VARIANT_NAME       2\n",
       "REVENUE          101\n",
       "dtype: int64"
      ]
     },
     "execution_count": 26,
     "metadata": {},
     "output_type": "execute_result"
    }
   ],
   "source": [
    "df.nunique()"
   ]
  },
  {
   "cell_type": "code",
   "execution_count": 25,
   "id": "05733a86",
   "metadata": {},
   "outputs": [
    {
     "data": {
      "text/plain": [
       "1    4783\n",
       "2    1541\n",
       "Name: VARIANT_NAME, dtype: int64"
      ]
     },
     "execution_count": 25,
     "metadata": {},
     "output_type": "execute_result"
    }
   ],
   "source": [
    "df.groupby('USER_ID')['VARIANT_NAME'].nunique().value_counts()"
   ]
  },
  {
   "cell_type": "markdown",
   "id": "0a37bb78",
   "metadata": {},
   "source": [
    "Также мы замечаем, что некторые пользователи видели обе версии рекламы."
   ]
  },
  {
   "cell_type": "code",
   "execution_count": 35,
   "id": "ce8e64ee",
   "metadata": {},
   "outputs": [
    {
     "data": {
      "text/plain": [
       "USER_ID\n",
       "2       1\n",
       "4       1\n",
       "5       1\n",
       "6       1\n",
       "9       1\n",
       "       ..\n",
       "9990    1\n",
       "9992    1\n",
       "9993    1\n",
       "9995    1\n",
       "9998    1\n",
       "Name: VARIANT_NAME, Length: 4783, dtype: int64"
      ]
     },
     "execution_count": 35,
     "metadata": {},
     "output_type": "execute_result"
    }
   ],
   "source": [
    "single_group = df.groupby('USER_ID')['VARIANT_NAME'].nunique()[df.groupby('USER_ID')['VARIANT_NAME'].nunique() == 1]\n",
    "single_group"
   ]
  },
  {
   "cell_type": "code",
   "execution_count": 47,
   "id": "1ba42f4f",
   "metadata": {},
   "outputs": [
    {
     "data": {
      "text/html": [
       "<div>\n",
       "<style scoped>\n",
       "    .dataframe tbody tr th:only-of-type {\n",
       "        vertical-align: middle;\n",
       "    }\n",
       "\n",
       "    .dataframe tbody tr th {\n",
       "        vertical-align: top;\n",
       "    }\n",
       "\n",
       "    .dataframe thead th {\n",
       "        text-align: right;\n",
       "    }\n",
       "</style>\n",
       "<table border=\"1\" class=\"dataframe\">\n",
       "  <thead>\n",
       "    <tr style=\"text-align: right;\">\n",
       "      <th></th>\n",
       "      <th>USER_ID</th>\n",
       "      <th>VARIANT_NAME</th>\n",
       "      <th>REVENUE</th>\n",
       "    </tr>\n",
       "  </thead>\n",
       "  <tbody>\n",
       "    <tr>\n",
       "      <th>0</th>\n",
       "      <td>737</td>\n",
       "      <td>variant</td>\n",
       "      <td>0.0</td>\n",
       "    </tr>\n",
       "    <tr>\n",
       "      <th>4</th>\n",
       "      <td>6174</td>\n",
       "      <td>variant</td>\n",
       "      <td>0.0</td>\n",
       "    </tr>\n",
       "    <tr>\n",
       "      <th>5</th>\n",
       "      <td>2380</td>\n",
       "      <td>variant</td>\n",
       "      <td>0.0</td>\n",
       "    </tr>\n",
       "    <tr>\n",
       "      <th>7</th>\n",
       "      <td>9168</td>\n",
       "      <td>control</td>\n",
       "      <td>0.0</td>\n",
       "    </tr>\n",
       "    <tr>\n",
       "      <th>9</th>\n",
       "      <td>7548</td>\n",
       "      <td>control</td>\n",
       "      <td>0.0</td>\n",
       "    </tr>\n",
       "  </tbody>\n",
       "</table>\n",
       "</div>"
      ],
      "text/plain": [
       "   USER_ID VARIANT_NAME  REVENUE\n",
       "0      737      variant      0.0\n",
       "4     6174      variant      0.0\n",
       "5     2380      variant      0.0\n",
       "7     9168      control      0.0\n",
       "9     7548      control      0.0"
      ]
     },
     "execution_count": 47,
     "metadata": {},
     "output_type": "execute_result"
    }
   ],
   "source": [
    "df = df[df['USER_ID'].isin(single_group.index)]\n",
    "df.head()"
   ]
  },
  {
   "cell_type": "markdown",
   "id": "2f1eb4b9",
   "metadata": {},
   "source": [
    "Теперь у нас остались только юзеры, которые видели 1 вариант рекламы.\n",
    "\n",
    "Можем посмотреть на группы:\n"
   ]
  },
  {
   "cell_type": "code",
   "execution_count": 57,
   "id": "204765d0",
   "metadata": {},
   "outputs": [
    {
     "data": {
      "text/html": [
       "<div>\n",
       "<style scoped>\n",
       "    .dataframe tbody tr th:only-of-type {\n",
       "        vertical-align: middle;\n",
       "    }\n",
       "\n",
       "    .dataframe tbody tr th {\n",
       "        vertical-align: top;\n",
       "    }\n",
       "\n",
       "    .dataframe thead tr th {\n",
       "        text-align: left;\n",
       "    }\n",
       "\n",
       "    .dataframe thead tr:last-of-type th {\n",
       "        text-align: right;\n",
       "    }\n",
       "</style>\n",
       "<table border=\"1\" class=\"dataframe\">\n",
       "  <thead>\n",
       "    <tr>\n",
       "      <th></th>\n",
       "      <th colspan=\"2\" halign=\"left\">USER_ID</th>\n",
       "      <th colspan=\"3\" halign=\"left\">REVENUE</th>\n",
       "    </tr>\n",
       "    <tr>\n",
       "      <th></th>\n",
       "      <th>count</th>\n",
       "      <th>nunique</th>\n",
       "      <th>sum</th>\n",
       "      <th>mean</th>\n",
       "      <th>median</th>\n",
       "    </tr>\n",
       "    <tr>\n",
       "      <th>VARIANT_NAME</th>\n",
       "      <th></th>\n",
       "      <th></th>\n",
       "      <th></th>\n",
       "      <th></th>\n",
       "      <th></th>\n",
       "    </tr>\n",
       "  </thead>\n",
       "  <tbody>\n",
       "    <tr>\n",
       "      <th>control</th>\n",
       "      <td>3026</td>\n",
       "      <td>2390</td>\n",
       "      <td>470.56</td>\n",
       "      <td>0.155506</td>\n",
       "      <td>0.0</td>\n",
       "    </tr>\n",
       "    <tr>\n",
       "      <th>variant</th>\n",
       "      <td>3044</td>\n",
       "      <td>2393</td>\n",
       "      <td>179.32</td>\n",
       "      <td>0.058909</td>\n",
       "      <td>0.0</td>\n",
       "    </tr>\n",
       "  </tbody>\n",
       "</table>\n",
       "</div>"
      ],
      "text/plain": [
       "             USER_ID         REVENUE                 \n",
       "               count nunique     sum      mean median\n",
       "VARIANT_NAME                                         \n",
       "control         3026    2390  470.56  0.155506    0.0\n",
       "variant         3044    2393  179.32  0.058909    0.0"
      ]
     },
     "execution_count": 57,
     "metadata": {},
     "output_type": "execute_result"
    }
   ],
   "source": [
    "df.groupby('VARIANT_NAME').agg({'USER_ID': ['count', 'nunique'], 'REVENUE': ['sum', 'mean', 'median']})"
   ]
  },
  {
   "cell_type": "markdown",
   "id": "b1148d2b",
   "metadata": {},
   "source": [
    "Еще одна метрика, которую хотелось бы посмотреть - как изменилось число покупок и платящих пользователей."
   ]
  },
  {
   "cell_type": "code",
   "execution_count": 60,
   "id": "41cafb2e",
   "metadata": {},
   "outputs": [
    {
     "data": {
      "text/html": [
       "<div>\n",
       "<style scoped>\n",
       "    .dataframe tbody tr th:only-of-type {\n",
       "        vertical-align: middle;\n",
       "    }\n",
       "\n",
       "    .dataframe tbody tr th {\n",
       "        vertical-align: top;\n",
       "    }\n",
       "\n",
       "    .dataframe thead th {\n",
       "        text-align: right;\n",
       "    }\n",
       "</style>\n",
       "<table border=\"1\" class=\"dataframe\">\n",
       "  <thead>\n",
       "    <tr style=\"text-align: right;\">\n",
       "      <th></th>\n",
       "      <th>count</th>\n",
       "      <th>mean</th>\n",
       "      <th>std</th>\n",
       "      <th>min</th>\n",
       "      <th>25%</th>\n",
       "      <th>50%</th>\n",
       "      <th>75%</th>\n",
       "      <th>max</th>\n",
       "    </tr>\n",
       "    <tr>\n",
       "      <th>VARIANT_NAME</th>\n",
       "      <th></th>\n",
       "      <th></th>\n",
       "      <th></th>\n",
       "      <th></th>\n",
       "      <th></th>\n",
       "      <th></th>\n",
       "      <th></th>\n",
       "      <th></th>\n",
       "    </tr>\n",
       "  </thead>\n",
       "  <tbody>\n",
       "    <tr>\n",
       "      <th>control</th>\n",
       "      <td>54.0</td>\n",
       "      <td>8.714074</td>\n",
       "      <td>26.627446</td>\n",
       "      <td>0.02</td>\n",
       "      <td>1.585</td>\n",
       "      <td>3.12</td>\n",
       "      <td>6.0075</td>\n",
       "      <td>196.01</td>\n",
       "    </tr>\n",
       "    <tr>\n",
       "      <th>variant</th>\n",
       "      <td>43.0</td>\n",
       "      <td>4.170233</td>\n",
       "      <td>4.932851</td>\n",
       "      <td>0.02</td>\n",
       "      <td>1.250</td>\n",
       "      <td>2.72</td>\n",
       "      <td>4.2700</td>\n",
       "      <td>23.04</td>\n",
       "    </tr>\n",
       "  </tbody>\n",
       "</table>\n",
       "</div>"
      ],
      "text/plain": [
       "              count      mean        std   min    25%   50%     75%     max\n",
       "VARIANT_NAME                                                               \n",
       "control        54.0  8.714074  26.627446  0.02  1.585  3.12  6.0075  196.01\n",
       "variant        43.0  4.170233   4.932851  0.02  1.250  2.72  4.2700   23.04"
      ]
     },
     "execution_count": 60,
     "metadata": {},
     "output_type": "execute_result"
    }
   ],
   "source": [
    "df[df['REVENUE'] > 0].groupby('VARIANT_NAME')['REVENUE'].describe()"
   ]
  },
  {
   "cell_type": "markdown",
   "id": "966205b8",
   "metadata": {},
   "source": [
    "Средние очень сильно отличаются, а медианы нет.\n",
    "\n",
    "Также судя по стандартному отклонению и максимальному значению, мы имеем выбросы в контрольной группе. Посмотрим на них:"
   ]
  },
  {
   "cell_type": "code",
   "execution_count": 77,
   "id": "1a2095a3",
   "metadata": {},
   "outputs": [
    {
     "data": {
      "image/png": "[encoded data removed]",
      "text/plain": [
       "<Figure size 640x480 with 1 Axes>"
      ]
     },
     "metadata": {},
     "output_type": "display_data"
    }
   ],
   "source": [
    "sns.boxplot(data=df[df['REVENUE'] > 0], x='VARIANT_NAME', y='REVENUE')\n",
    "plt.ylabel('Выручка с заказа')\n",
    "plt.xlabel('Выборка')\n",
    "plt.title('Распределение выручки по группам');"
   ]
  },
  {
   "cell_type": "markdown",
   "id": "4df9f1bb",
   "metadata": {},
   "source": [
    "Действительно, в контрольной группе есть довольно большой выброс. Уберем его."
   ]
  },
  {
   "cell_type": "code",
   "execution_count": 83,
   "id": "5187e237",
   "metadata": {},
   "outputs": [],
   "source": [
    "no_ejections = df[df['REVENUE'] < 50]"
   ]
  },
  {
   "cell_type": "code",
   "execution_count": 85,
   "id": "e60238b3",
   "metadata": {},
   "outputs": [
    {
     "data": {
      "image/png": "[encoded data removed]",
      "text/plain": [
       "<Figure size 640x480 with 1 Axes>"
      ]
     },
     "metadata": {},
     "output_type": "display_data"
    }
   ],
   "source": [
    "sns.boxplot(data=no_ejections[no_ejections['REVENUE'] > 0], x='VARIANT_NAME', y='REVENUE')\n",
    "plt.ylabel('Выручка с заказа')\n",
    "plt.xlabel('Выборка')\n",
    "plt.title('Распределение выручки по группам без выбросов');"
   ]
  },
  {
   "cell_type": "markdown",
   "id": "e6f76084",
   "metadata": {},
   "source": [
    "Посмотрим не совершал ли выброшенный пользователь еще каких-нибудь покупок:"
   ]
  },
  {
   "cell_type": "code",
   "execution_count": 186,
   "id": "5ba542c2",
   "metadata": {},
   "outputs": [
    {
     "data": {
      "text/html": [
       "<div>\n",
       "<style scoped>\n",
       "    .dataframe tbody tr th:only-of-type {\n",
       "        vertical-align: middle;\n",
       "    }\n",
       "\n",
       "    .dataframe tbody tr th {\n",
       "        vertical-align: top;\n",
       "    }\n",
       "\n",
       "    .dataframe thead th {\n",
       "        text-align: right;\n",
       "    }\n",
       "</style>\n",
       "<table border=\"1\" class=\"dataframe\">\n",
       "  <thead>\n",
       "    <tr style=\"text-align: right;\">\n",
       "      <th></th>\n",
       "      <th>USER_ID</th>\n",
       "      <th>VARIANT_NAME</th>\n",
       "      <th>REVENUE</th>\n",
       "    </tr>\n",
       "  </thead>\n",
       "  <tbody>\n",
       "    <tr>\n",
       "      <th>1437</th>\n",
       "      <td>3342</td>\n",
       "      <td>control</td>\n",
       "      <td>196.01</td>\n",
       "    </tr>\n",
       "  </tbody>\n",
       "</table>\n",
       "</div>"
      ],
      "text/plain": [
       "      USER_ID VARIANT_NAME  REVENUE\n",
       "1437     3342      control   196.01"
      ]
     },
     "execution_count": 186,
     "metadata": {},
     "output_type": "execute_result"
    }
   ],
   "source": [
    "ejection = df[df['REVENUE'] > 50]\n",
    "ejection"
   ]
  },
  {
   "cell_type": "code",
   "execution_count": 185,
   "id": "9fd1e03b",
   "metadata": {},
   "outputs": [
    {
     "data": {
      "text/html": [
       "<div>\n",
       "<style scoped>\n",
       "    .dataframe tbody tr th:only-of-type {\n",
       "        vertical-align: middle;\n",
       "    }\n",
       "\n",
       "    .dataframe tbody tr th {\n",
       "        vertical-align: top;\n",
       "    }\n",
       "\n",
       "    .dataframe thead th {\n",
       "        text-align: right;\n",
       "    }\n",
       "</style>\n",
       "<table border=\"1\" class=\"dataframe\">\n",
       "  <thead>\n",
       "    <tr style=\"text-align: right;\">\n",
       "      <th></th>\n",
       "      <th>USER_ID</th>\n",
       "      <th>VARIANT_NAME</th>\n",
       "      <th>REVENUE</th>\n",
       "    </tr>\n",
       "  </thead>\n",
       "  <tbody>\n",
       "    <tr>\n",
       "      <th>1437</th>\n",
       "      <td>3342</td>\n",
       "      <td>control</td>\n",
       "      <td>196.01</td>\n",
       "    </tr>\n",
       "  </tbody>\n",
       "</table>\n",
       "</div>"
      ],
      "text/plain": [
       "      USER_ID VARIANT_NAME  REVENUE\n",
       "1437     3342      control   196.01"
      ]
     },
     "execution_count": 185,
     "metadata": {},
     "output_type": "execute_result"
    }
   ],
   "source": [
    "df[df['USER_ID'] == ejection['USER_ID'].values[0]]"
   ]
  },
  {
   "cell_type": "markdown",
   "id": "07a5354b",
   "metadata": {},
   "source": [
    "Пользователь 3342 сделал всего одну большую покупку, поэтому можем убрать его из наблюдений, чтобы среднее сильно не смещалось."
   ]
  },
  {
   "cell_type": "markdown",
   "id": "fd62e862",
   "metadata": {},
   "source": [
    "Вернемся к полученным выборкам. Они уже стали уже больше похожи друг на друга. Посмотрим еще раз сводку по ним:"
   ]
  },
  {
   "cell_type": "code",
   "execution_count": 86,
   "id": "c0339c02",
   "metadata": {},
   "outputs": [
    {
     "data": {
      "text/html": [
       "<div>\n",
       "<style scoped>\n",
       "    .dataframe tbody tr th:only-of-type {\n",
       "        vertical-align: middle;\n",
       "    }\n",
       "\n",
       "    .dataframe tbody tr th {\n",
       "        vertical-align: top;\n",
       "    }\n",
       "\n",
       "    .dataframe thead tr th {\n",
       "        text-align: left;\n",
       "    }\n",
       "\n",
       "    .dataframe thead tr:last-of-type th {\n",
       "        text-align: right;\n",
       "    }\n",
       "</style>\n",
       "<table border=\"1\" class=\"dataframe\">\n",
       "  <thead>\n",
       "    <tr>\n",
       "      <th></th>\n",
       "      <th colspan=\"2\" halign=\"left\">USER_ID</th>\n",
       "      <th colspan=\"3\" halign=\"left\">REVENUE</th>\n",
       "    </tr>\n",
       "    <tr>\n",
       "      <th></th>\n",
       "      <th>count</th>\n",
       "      <th>nunique</th>\n",
       "      <th>sum</th>\n",
       "      <th>mean</th>\n",
       "      <th>median</th>\n",
       "    </tr>\n",
       "    <tr>\n",
       "      <th>VARIANT_NAME</th>\n",
       "      <th></th>\n",
       "      <th></th>\n",
       "      <th></th>\n",
       "      <th></th>\n",
       "      <th></th>\n",
       "    </tr>\n",
       "  </thead>\n",
       "  <tbody>\n",
       "    <tr>\n",
       "      <th>control</th>\n",
       "      <td>3025</td>\n",
       "      <td>2389</td>\n",
       "      <td>274.55</td>\n",
       "      <td>0.090760</td>\n",
       "      <td>0.0</td>\n",
       "    </tr>\n",
       "    <tr>\n",
       "      <th>variant</th>\n",
       "      <td>3044</td>\n",
       "      <td>2393</td>\n",
       "      <td>179.32</td>\n",
       "      <td>0.058909</td>\n",
       "      <td>0.0</td>\n",
       "    </tr>\n",
       "  </tbody>\n",
       "</table>\n",
       "</div>"
      ],
      "text/plain": [
       "             USER_ID         REVENUE                 \n",
       "               count nunique     sum      mean median\n",
       "VARIANT_NAME                                         \n",
       "control         3025    2389  274.55  0.090760    0.0\n",
       "variant         3044    2393  179.32  0.058909    0.0"
      ]
     },
     "execution_count": 86,
     "metadata": {},
     "output_type": "execute_result"
    }
   ],
   "source": [
    "no_ejections.groupby('VARIANT_NAME').agg({'USER_ID': ['count', 'nunique'], 'REVENUE': ['sum', 'mean', 'median']})"
   ]
  },
  {
   "cell_type": "code",
   "execution_count": 87,
   "id": "455d2295",
   "metadata": {},
   "outputs": [
    {
     "data": {
      "text/html": [
       "<div>\n",
       "<style scoped>\n",
       "    .dataframe tbody tr th:only-of-type {\n",
       "        vertical-align: middle;\n",
       "    }\n",
       "\n",
       "    .dataframe tbody tr th {\n",
       "        vertical-align: top;\n",
       "    }\n",
       "\n",
       "    .dataframe thead th {\n",
       "        text-align: right;\n",
       "    }\n",
       "</style>\n",
       "<table border=\"1\" class=\"dataframe\">\n",
       "  <thead>\n",
       "    <tr style=\"text-align: right;\">\n",
       "      <th></th>\n",
       "      <th>count</th>\n",
       "      <th>mean</th>\n",
       "      <th>std</th>\n",
       "      <th>min</th>\n",
       "      <th>25%</th>\n",
       "      <th>50%</th>\n",
       "      <th>75%</th>\n",
       "      <th>max</th>\n",
       "    </tr>\n",
       "    <tr>\n",
       "      <th>VARIANT_NAME</th>\n",
       "      <th></th>\n",
       "      <th></th>\n",
       "      <th></th>\n",
       "      <th></th>\n",
       "      <th></th>\n",
       "      <th></th>\n",
       "      <th></th>\n",
       "      <th></th>\n",
       "    </tr>\n",
       "  </thead>\n",
       "  <tbody>\n",
       "    <tr>\n",
       "      <th>control</th>\n",
       "      <td>53.0</td>\n",
       "      <td>5.180189</td>\n",
       "      <td>5.942771</td>\n",
       "      <td>0.02</td>\n",
       "      <td>1.56</td>\n",
       "      <td>2.99</td>\n",
       "      <td>4.98</td>\n",
       "      <td>29.32</td>\n",
       "    </tr>\n",
       "    <tr>\n",
       "      <th>variant</th>\n",
       "      <td>43.0</td>\n",
       "      <td>4.170233</td>\n",
       "      <td>4.932851</td>\n",
       "      <td>0.02</td>\n",
       "      <td>1.25</td>\n",
       "      <td>2.72</td>\n",
       "      <td>4.27</td>\n",
       "      <td>23.04</td>\n",
       "    </tr>\n",
       "  </tbody>\n",
       "</table>\n",
       "</div>"
      ],
      "text/plain": [
       "              count      mean       std   min   25%   50%   75%    max\n",
       "VARIANT_NAME                                                          \n",
       "control        53.0  5.180189  5.942771  0.02  1.56  2.99  4.98  29.32\n",
       "variant        43.0  4.170233  4.932851  0.02  1.25  2.72  4.27  23.04"
      ]
     },
     "execution_count": 87,
     "metadata": {},
     "output_type": "execute_result"
    }
   ],
   "source": [
    "no_ejections[no_ejections['REVENUE'] > 0].groupby('VARIANT_NAME')['REVENUE'].describe()"
   ]
  },
  {
   "cell_type": "code",
   "execution_count": 116,
   "id": "a0bf0941",
   "metadata": {},
   "outputs": [
    {
     "name": "stdout",
     "output_type": "stream",
     "text": [
      "ARPPU control: 5.18, ARPPU variant: 4.17\n"
     ]
    }
   ],
   "source": [
    "arppu_control = round(274.55 / 53, 2)\n",
    "arppu_variant = round(179.32 / 43, 2)\n",
    "print(f'ARPPU control: {arppu_control}, ARPPU variant: {arppu_variant}')"
   ]
  },
  {
   "cell_type": "markdown",
   "id": "9300e270",
   "metadata": {},
   "source": [
    "Теперь выборки уже похожи друг на друга. Но все равно контрольная кажется выигрышной по ряду метрик: **количество покупок**, **средний чек** и **ARPPU**.\n",
    "\n"
   ]
  },
  {
   "cell_type": "markdown",
   "id": "dab4343c",
   "metadata": {},
   "source": [
    "Теперь вернемся к количеству платящих пользователей."
   ]
  },
  {
   "cell_type": "code",
   "execution_count": 119,
   "id": "b1abdcd0",
   "metadata": {},
   "outputs": [
    {
     "data": {
      "text/plain": [
       "VARIANT_NAME\n",
       "control    53\n",
       "variant    42\n",
       "Name: USER_ID, dtype: int64"
      ]
     },
     "execution_count": 119,
     "metadata": {},
     "output_type": "execute_result"
    }
   ],
   "source": [
    "no_ejections[no_ejections['REVENUE'] > 0].groupby('VARIANT_NAME')['USER_ID'].nunique()"
   ]
  },
  {
   "cell_type": "markdown",
   "id": "f57de7da",
   "metadata": {},
   "source": [
    "Выглядит нормально. Почти все платящие пользователи совершили по 1 покупке. Не будем учитывать эту метрику, потому что она практически идентична среднему чеку в нашем случае.\n",
    "\n",
    "Приступим к тестам."
   ]
  },
  {
   "cell_type": "markdown",
   "id": "b8d87c71",
   "metadata": {},
   "source": [
    "К сожалению, неизвестно какой ожидался эффект от измененной рекламы (MDE), поэтому трудно оценить заложенные уровень значимости (alpha) и мощность теста (1 - beta)."
   ]
  },
  {
   "cell_type": "markdown",
   "id": "27118ecf",
   "metadata": {},
   "source": [
    "### Проверяем гипотезы"
   ]
  },
  {
   "cell_type": "markdown",
   "id": "fb6d6eef",
   "metadata": {},
   "source": [
    "Гипотезы (H0) следующие:\n",
    "\n",
    "1) Конверсия в покупку не изменилась\n",
    "2) Средний чек (в нашем случае он почти эквивалентен ARPPU) не изменился"
   ]
  },
  {
   "cell_type": "markdown",
   "id": "1b89faaa",
   "metadata": {},
   "source": [
    "### H0: Конверсия в покупку не изменилась\n",
    "### H1: Конверсия в покупку изменилась"
   ]
  },
  {
   "cell_type": "markdown",
   "id": "00ae9956",
   "metadata": {},
   "source": [
    "Я считаю, что нужно смотреть на отношение кол-ва покупок к количеству просмотров рекламы, а не к кол-ву уникальных просмотров, потому что многократный просмотр одной и той же рекламы может повлиять на решение пользователя купить товар."
   ]
  },
  {
   "cell_type": "code",
   "execution_count": 144,
   "id": "6050033d",
   "metadata": {},
   "outputs": [],
   "source": [
    "# количество просмотров рекламы в контрольной группе\n",
    "views_control = no_ejections[no_ejections['VARIANT_NAME'] == 'control']['USER_ID'].count()\n",
    "\n",
    "# количество просмотров рекламы в тестовой группе\n",
    "views_variant = no_ejections[no_ejections['VARIANT_NAME'] == 'variant']['USER_ID'].count()\n",
    "\n",
    "# количество покупок в контрольной группе\n",
    "buys_control = no_ejections[(no_ejections['VARIANT_NAME'] == 'control') & \\\n",
    "                           (no_ejections['REVENUE'] > 0)]['USER_ID'].count()\n",
    "\n",
    "# количество покупок в тестовой группе\n",
    "buys_variant = no_ejections[(no_ejections['VARIANT_NAME'] == 'variant') & \\\n",
    "                           (no_ejections['REVENUE'] > 0)]['USER_ID'].count()"
   ]
  },
  {
   "cell_type": "code",
   "execution_count": 146,
   "id": "bd1fb220",
   "metadata": {},
   "outputs": [
    {
     "data": {
      "text/plain": [
       "(0.2892743961405324, False)"
      ]
     },
     "execution_count": 146,
     "metadata": {},
     "output_type": "execute_result"
    }
   ],
   "source": [
    "_, pval =  proportions_ztest([buys_control, buys_variant], [views_control, views_variant])\n",
    "pval, pval < 0.05"
   ]
  },
  {
   "cell_type": "markdown",
   "id": "d67a2110",
   "metadata": {},
   "source": [
    "Мы не отклоняем H0, потому что получили p-value гораздо большее, чем 0.05 (я решил взять классический уровень знаимости alpha).\n",
    "\n",
    "Получается, что статистически значимых различий в конверсии в покупку мы не обнаружили."
   ]
  },
  {
   "cell_type": "markdown",
   "id": "9a5bfa52",
   "metadata": {},
   "source": [
    "### H0: Средний чек не изменился\n",
    "### H1: Средний чек изменился"
   ]
  },
  {
   "cell_type": "code",
   "execution_count": 162,
   "id": "bd0f0476",
   "metadata": {},
   "outputs": [],
   "source": [
    "# средний чек в контрольной группе\n",
    "aov_control = no_ejections[(no_ejections['VARIANT_NAME'] == 'control') & \\\n",
    "                          (no_ejections['REVENUE'] > 0)]['REVENUE']\n",
    "\n",
    "# средний чек в тестовой группе\n",
    "aov_variant = no_ejections[(no_ejections['VARIANT_NAME'] == 'variant') & \\\n",
    "                          (no_ejections['REVENUE'] > 0)]['REVENUE']"
   ]
  },
  {
   "cell_type": "code",
   "execution_count": 205,
   "id": "8389c9cc",
   "metadata": {
    "scrolled": false
   },
   "outputs": [
    {
     "data": {
      "image/png": "[encoded data removed]",
      "text/plain": [
       "<Figure size 640x480 with 1 Axes>"
      ]
     },
     "metadata": {},
     "output_type": "display_data"
    }
   ],
   "source": [
    "no_ejection_dist = no_ejections[no_ejections['REVENUE'] > 0]\n",
    "\n",
    "sns.histplot(no_ejection_dist, x='REVENUE', hue='VARIANT_NAME', discrete=True, kde=True);"
   ]
  },
  {
   "cell_type": "markdown",
   "id": "29d079c8",
   "metadata": {},
   "source": [
    "Видно, что люди из контрольной группы в большинстве своем покупают чуть более дорогие товары, а в тестовой наоборот - больше самых дешевых.\n",
    "\n",
    "И хоть \"на глаз\" хорошо видно, что данные не распределены нормально, для формальности проведем **тест Шапиро-Уилка** на нормальность распределения (H0 - распределение не отличается от нормального, H1 - отличается)."
   ]
  },
  {
   "cell_type": "code",
   "execution_count": 212,
   "id": "17bcbfb4",
   "metadata": {},
   "outputs": [
    {
     "data": {
      "text/plain": [
       "(0.0, True)"
      ]
     },
     "execution_count": 212,
     "metadata": {},
     "output_type": "execute_result"
    }
   ],
   "source": [
    "_, pval = stats.shapiro(no_ejections['REVENUE'])\n",
    "pval, pval < 0.05"
   ]
  },
  {
   "cell_type": "markdown",
   "id": "d623017e",
   "metadata": {},
   "source": [
    "Да, мы убедились, что распределение отлично от нормального.\n",
    "\n",
    "Значит далее будем использовать непараметрический **U-критерий Манна-Уитни**."
   ]
  },
  {
   "cell_type": "code",
   "execution_count": 213,
   "id": "f7242c15",
   "metadata": {},
   "outputs": [],
   "source": [
    "# средний чек в контрольной группе\n",
    "aov_control = no_ejections[no_ejections['VARIANT_NAME'] == 'control']['REVENUE']\n",
    "\n",
    "# средний чек в тестовой группе\n",
    "aov_variant = no_ejections[no_ejections['VARIANT_NAME'] == 'variant']['REVENUE']"
   ]
  },
  {
   "cell_type": "code",
   "execution_count": 215,
   "id": "b48d9fe9",
   "metadata": {},
   "outputs": [
    {
     "data": {
      "text/plain": [
       "(0.2859842308619548, False)"
      ]
     },
     "execution_count": 215,
     "metadata": {},
     "output_type": "execute_result"
    }
   ],
   "source": [
    "_, pval = stats.mannwhitneyu(aov_control, aov_variant)\n",
    "pval, pval < 0.05"
   ]
  },
  {
   "cell_type": "markdown",
   "id": "8133cb43",
   "metadata": {},
   "source": [
    "H0 не отклонена, статистически значимых изменений не обнаружено."
   ]
  },
  {
   "cell_type": "markdown",
   "id": "211ac986",
   "metadata": {},
   "source": [
    "Нюанс в том, что почти все данные - нули. С таким большим количество наблюдений нужно быть очень внимательным и осторожным при проведении U-теста.\n",
    "\n",
    "На всякий случай мы проверим, не изменится ли результат, если мы уберем все REVENUE = 0."
   ]
  },
  {
   "cell_type": "code",
   "execution_count": 226,
   "id": "1c9b8703",
   "metadata": {},
   "outputs": [],
   "source": [
    "# средний чек в контрольной группе\n",
    "aov_control_not_null = no_ejections[(no_ejections['VARIANT_NAME'] == 'control') & \\\n",
    "                            (no_ejections['REVENUE'] > 0)]['REVENUE']\n",
    "\n",
    "# средний чек в тестовой группе\n",
    "aov_variant_not_null = no_ejections[(no_ejections['VARIANT_NAME'] == 'variant') & \\\n",
    "                            (no_ejections['REVENUE'] > 0)]['REVENUE']"
   ]
  },
  {
   "cell_type": "code",
   "execution_count": 229,
   "id": "c3194fe0",
   "metadata": {},
   "outputs": [
    {
     "data": {
      "text/plain": [
       "(0.4218148352342157, False)"
      ]
     },
     "execution_count": 229,
     "metadata": {},
     "output_type": "execute_result"
    }
   ],
   "source": [
    "_, pval = stats.mannwhitneyu(aov_control_not_null, aov_variant_not_null)\n",
    "pval, pval < 0.05"
   ]
  },
  {
   "cell_type": "markdown",
   "id": "c1a41541",
   "metadata": {},
   "source": [
    "Нет, все равно значимых изменений нет. U-критерий даже сильно вырос, когда мы убрали огромное количество нулей."
   ]
  },
  {
   "cell_type": "markdown",
   "id": "8d2ac452",
   "metadata": {},
   "source": [
    " ### Альтернативные проверки"
   ]
  },
  {
   "cell_type": "markdown",
   "id": "a0289b30",
   "metadata": {},
   "source": [
    "Хоть это не совсем корректно, но интереса ради проведем пару параметрических тестов для этих данных (t-тест и z-тест)."
   ]
  },
  {
   "cell_type": "code",
   "execution_count": 225,
   "id": "dda0171e",
   "metadata": {},
   "outputs": [
    {
     "data": {
      "text/plain": [
       "0.17149090193658395"
      ]
     },
     "execution_count": 225,
     "metadata": {},
     "output_type": "execute_result"
    }
   ],
   "source": [
    "_, pval = stats.ttest_ind(aov_control, aov_variant)\n",
    "pval"
   ]
  },
  {
   "cell_type": "code",
   "execution_count": 224,
   "id": "b0b92523",
   "metadata": {},
   "outputs": [
    {
     "data": {
      "text/plain": [
       "0.17144024477597197"
      ]
     },
     "execution_count": 224,
     "metadata": {},
     "output_type": "execute_result"
    }
   ],
   "source": [
    "_, pval = ztest(aov_control, aov_variant)\n",
    "pval"
   ]
  },
  {
   "cell_type": "markdown",
   "id": "2c14f566",
   "metadata": {},
   "source": [
    "И все равно значимых изменений не обнаруживается."
   ]
  },
  {
   "cell_type": "markdown",
   "id": "731d5680",
   "metadata": {},
   "source": [
    "### Заключение"
   ]
  },
  {
   "cell_type": "markdown",
   "id": "eb683f1d",
   "metadata": {},
   "source": [
    "1) Мы изучили собранные данные и обнаружили, что некоторые пользователи попали сразу в обе тестируемые группы. Их мы осторожно убрали. Затем мы заметили аномально дорогую покупку, нашли пользователя, который ее совершил и убедились, что это его единственная покупка - и убрали его из исследования.\n",
    "\n",
    "2) Далее мы проверили, есть ли статистически значимая разница в конвервиях в покупку. Провели тест пропорций и не обнаружили таковой разницы.\n",
    "\n",
    "3) Основным тестом для оценки средних чеков (AOV) был взял U-тест Манна-Уитни, т.к. нормальность распределения наших данных не была обнаружена. По результатам теста значимых различий в среднем чеке обнаружено не было.\n",
    "\n",
    "4) Можно сделать вывод о том, что по результатам A/B-теста значимых различий по основным метрикам выявлено не было. Визуально даже проглядывается негативный эффект, поэтому оснований для раскатывания новой рекламы на всех пользователей нет."
   ]
  }
 ],
 "metadata": {
  "kernelspec": {
   "display_name": "Python 3 (ipykernel)",
   "language": "python",
   "name": "python3"
  },
  "language_info": {
   "codemirror_mode": {
    "name": "ipython",
    "version": 3
   },
   "file_extension": ".py",
   "mimetype": "text/x-python",
   "name": "python",
   "nbconvert_exporter": "python",
   "pygments_lexer": "ipython3",
   "version": "3.11.2"
  }
 },
 "nbformat": 4,
 "nbformat_minor": 5
}
