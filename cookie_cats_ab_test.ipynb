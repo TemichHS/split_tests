{
 "cells": [
  {
   "cell_type": "markdown",
   "id": "abda988c",
   "metadata": {},
   "source": [
    "# A/B-тест пользовательского поведения в мобильной игре"
   ]
  },
  {
   "cell_type": "markdown",
   "id": "891a75f4",
   "metadata": {},
   "source": [
    "**Описание:** Cookie Cats - игра-головоломка от студии Tactile Entertainment в жанре \"три-в-ряд\". После прохождения определенного уровня игроку предлагается подождать некоторое время либо совершить внутриигровую покупку для продолжения игры. Сейчас такой выбор предстает перед игроком на 30-м уровне.\n",
    "\n",
    "**Задача:** Как изменится поведение новых пользователей в течение 7 дней после скачивания игры, если сдвинуть этот выбор на 40 уровень?\n",
    "\n",
    "**Вывод:** Не рекомендую раскатывать изменение на всех пользователей. В ходе эксперимента был зафиксирован не значимый рост среднего количества сыгранных раундов, однако ретеншн в течение 1 дня после скачивания упал (не стат. значимо), а ретеншн через 7 дней после скачивание упал ощутимо (стат. значимо).\n",
    "\n",
    "В сборе данных грубые ошибки, для будущих подобных АБ-тестов необходимо как минимум собирать информацию о количестве пройденных уровней."
   ]
  },
  {
   "cell_type": "markdown",
   "id": "23dbb0e2",
   "metadata": {},
   "source": [
    "## Импортируем библиотеки"
   ]
  },
  {
   "cell_type": "code",
   "execution_count": 195,
   "id": "27cee094",
   "metadata": {},
   "outputs": [],
   "source": [
    "import numpy as np\n",
    "import pandas as pd\n",
    "import matplotlib.pyplot as plt\n",
    "import seaborn as sns\n",
    "import scipy.stats as stats\n",
    "from statsmodels.stats.proportion import proportions_ztest"
   ]
  },
  {
   "cell_type": "markdown",
   "id": "9ff308cb",
   "metadata": {},
   "source": [
    "## Исследуем данные"
   ]
  },
  {
   "cell_type": "code",
   "execution_count": 76,
   "id": "626d071a",
   "metadata": {},
   "outputs": [],
   "source": [
    "df = pd.read_csv('cookie_cats.csv')"
   ]
  },
  {
   "cell_type": "markdown",
   "id": "a3617dfd",
   "metadata": {},
   "source": [
    "**userid:** A unique number that identifies each player.\n",
    "\n",
    "**version:** Test group.\n",
    "\n",
    "**sum_gamerounds:** The number of game rounds played by the player during the first 14 days after install.\n",
    "\n",
    "**retention_1:** Did the player come back and play 1 day after installing?\n",
    "\n",
    "**retention_7:** Did the player come back and play 7 days after installing?"
   ]
  },
  {
   "cell_type": "code",
   "execution_count": 77,
   "id": "6b3f0b6c",
   "metadata": {},
   "outputs": [
    {
     "data": {
      "text/html": [
       "<div>\n",
       "<style scoped>\n",
       "    .dataframe tbody tr th:only-of-type {\n",
       "        vertical-align: middle;\n",
       "    }\n",
       "\n",
       "    .dataframe tbody tr th {\n",
       "        vertical-align: top;\n",
       "    }\n",
       "\n",
       "    .dataframe thead th {\n",
       "        text-align: right;\n",
       "    }\n",
       "</style>\n",
       "<table border=\"1\" class=\"dataframe\">\n",
       "  <thead>\n",
       "    <tr style=\"text-align: right;\">\n",
       "      <th></th>\n",
       "      <th>userid</th>\n",
       "      <th>version</th>\n",
       "      <th>sum_gamerounds</th>\n",
       "      <th>retention_1</th>\n",
       "      <th>retention_7</th>\n",
       "    </tr>\n",
       "  </thead>\n",
       "  <tbody>\n",
       "    <tr>\n",
       "      <th>0</th>\n",
       "      <td>116</td>\n",
       "      <td>gate_30</td>\n",
       "      <td>3</td>\n",
       "      <td>False</td>\n",
       "      <td>False</td>\n",
       "    </tr>\n",
       "    <tr>\n",
       "      <th>1</th>\n",
       "      <td>337</td>\n",
       "      <td>gate_30</td>\n",
       "      <td>38</td>\n",
       "      <td>True</td>\n",
       "      <td>False</td>\n",
       "    </tr>\n",
       "    <tr>\n",
       "      <th>2</th>\n",
       "      <td>377</td>\n",
       "      <td>gate_40</td>\n",
       "      <td>165</td>\n",
       "      <td>True</td>\n",
       "      <td>False</td>\n",
       "    </tr>\n",
       "    <tr>\n",
       "      <th>3</th>\n",
       "      <td>483</td>\n",
       "      <td>gate_40</td>\n",
       "      <td>1</td>\n",
       "      <td>False</td>\n",
       "      <td>False</td>\n",
       "    </tr>\n",
       "    <tr>\n",
       "      <th>4</th>\n",
       "      <td>488</td>\n",
       "      <td>gate_40</td>\n",
       "      <td>179</td>\n",
       "      <td>True</td>\n",
       "      <td>True</td>\n",
       "    </tr>\n",
       "    <tr>\n",
       "      <th>...</th>\n",
       "      <td>...</td>\n",
       "      <td>...</td>\n",
       "      <td>...</td>\n",
       "      <td>...</td>\n",
       "      <td>...</td>\n",
       "    </tr>\n",
       "    <tr>\n",
       "      <th>90184</th>\n",
       "      <td>9999441</td>\n",
       "      <td>gate_40</td>\n",
       "      <td>97</td>\n",
       "      <td>True</td>\n",
       "      <td>False</td>\n",
       "    </tr>\n",
       "    <tr>\n",
       "      <th>90185</th>\n",
       "      <td>9999479</td>\n",
       "      <td>gate_40</td>\n",
       "      <td>30</td>\n",
       "      <td>False</td>\n",
       "      <td>False</td>\n",
       "    </tr>\n",
       "    <tr>\n",
       "      <th>90186</th>\n",
       "      <td>9999710</td>\n",
       "      <td>gate_30</td>\n",
       "      <td>28</td>\n",
       "      <td>True</td>\n",
       "      <td>False</td>\n",
       "    </tr>\n",
       "    <tr>\n",
       "      <th>90187</th>\n",
       "      <td>9999768</td>\n",
       "      <td>gate_40</td>\n",
       "      <td>51</td>\n",
       "      <td>True</td>\n",
       "      <td>False</td>\n",
       "    </tr>\n",
       "    <tr>\n",
       "      <th>90188</th>\n",
       "      <td>9999861</td>\n",
       "      <td>gate_40</td>\n",
       "      <td>16</td>\n",
       "      <td>False</td>\n",
       "      <td>False</td>\n",
       "    </tr>\n",
       "  </tbody>\n",
       "</table>\n",
       "<p>90189 rows × 5 columns</p>\n",
       "</div>"
      ],
      "text/plain": [
       "        userid  version  sum_gamerounds  retention_1  retention_7\n",
       "0          116  gate_30               3        False        False\n",
       "1          337  gate_30              38         True        False\n",
       "2          377  gate_40             165         True        False\n",
       "3          483  gate_40               1        False        False\n",
       "4          488  gate_40             179         True         True\n",
       "...        ...      ...             ...          ...          ...\n",
       "90184  9999441  gate_40              97         True        False\n",
       "90185  9999479  gate_40              30        False        False\n",
       "90186  9999710  gate_30              28         True        False\n",
       "90187  9999768  gate_40              51         True        False\n",
       "90188  9999861  gate_40              16        False        False\n",
       "\n",
       "[90189 rows x 5 columns]"
      ]
     },
     "execution_count": 77,
     "metadata": {},
     "output_type": "execute_result"
    }
   ],
   "source": [
    "df"
   ]
  },
  {
   "cell_type": "code",
   "execution_count": 78,
   "id": "125453b6",
   "metadata": {},
   "outputs": [
    {
     "data": {
      "text/html": [
       "<div>\n",
       "<style scoped>\n",
       "    .dataframe tbody tr th:only-of-type {\n",
       "        vertical-align: middle;\n",
       "    }\n",
       "\n",
       "    .dataframe tbody tr th {\n",
       "        vertical-align: top;\n",
       "    }\n",
       "\n",
       "    .dataframe thead th {\n",
       "        text-align: right;\n",
       "    }\n",
       "</style>\n",
       "<table border=\"1\" class=\"dataframe\">\n",
       "  <thead>\n",
       "    <tr style=\"text-align: right;\">\n",
       "      <th></th>\n",
       "      <th>userid</th>\n",
       "      <th>sum_gamerounds</th>\n",
       "    </tr>\n",
       "  </thead>\n",
       "  <tbody>\n",
       "    <tr>\n",
       "      <th>count</th>\n",
       "      <td>9.018900e+04</td>\n",
       "      <td>90189.000000</td>\n",
       "    </tr>\n",
       "    <tr>\n",
       "      <th>mean</th>\n",
       "      <td>4.998412e+06</td>\n",
       "      <td>51.872457</td>\n",
       "    </tr>\n",
       "    <tr>\n",
       "      <th>std</th>\n",
       "      <td>2.883286e+06</td>\n",
       "      <td>195.050858</td>\n",
       "    </tr>\n",
       "    <tr>\n",
       "      <th>min</th>\n",
       "      <td>1.160000e+02</td>\n",
       "      <td>0.000000</td>\n",
       "    </tr>\n",
       "    <tr>\n",
       "      <th>25%</th>\n",
       "      <td>2.512230e+06</td>\n",
       "      <td>5.000000</td>\n",
       "    </tr>\n",
       "    <tr>\n",
       "      <th>50%</th>\n",
       "      <td>4.995815e+06</td>\n",
       "      <td>16.000000</td>\n",
       "    </tr>\n",
       "    <tr>\n",
       "      <th>75%</th>\n",
       "      <td>7.496452e+06</td>\n",
       "      <td>51.000000</td>\n",
       "    </tr>\n",
       "    <tr>\n",
       "      <th>max</th>\n",
       "      <td>9.999861e+06</td>\n",
       "      <td>49854.000000</td>\n",
       "    </tr>\n",
       "  </tbody>\n",
       "</table>\n",
       "</div>"
      ],
      "text/plain": [
       "             userid  sum_gamerounds\n",
       "count  9.018900e+04    90189.000000\n",
       "mean   4.998412e+06       51.872457\n",
       "std    2.883286e+06      195.050858\n",
       "min    1.160000e+02        0.000000\n",
       "25%    2.512230e+06        5.000000\n",
       "50%    4.995815e+06       16.000000\n",
       "75%    7.496452e+06       51.000000\n",
       "max    9.999861e+06    49854.000000"
      ]
     },
     "execution_count": 78,
     "metadata": {},
     "output_type": "execute_result"
    }
   ],
   "source": [
    "df.describe()"
   ]
  },
  {
   "cell_type": "code",
   "execution_count": 79,
   "id": "9854b1d1",
   "metadata": {},
   "outputs": [
    {
     "name": "stdout",
     "output_type": "stream",
     "text": [
      "<class 'pandas.core.frame.DataFrame'>\n",
      "RangeIndex: 90189 entries, 0 to 90188\n",
      "Data columns (total 5 columns):\n",
      " #   Column          Non-Null Count  Dtype \n",
      "---  ------          --------------  ----- \n",
      " 0   userid          90189 non-null  int64 \n",
      " 1   version         90189 non-null  object\n",
      " 2   sum_gamerounds  90189 non-null  int64 \n",
      " 3   retention_1     90189 non-null  bool  \n",
      " 4   retention_7     90189 non-null  bool  \n",
      "dtypes: bool(2), int64(2), object(1)\n",
      "memory usage: 2.2+ MB\n"
     ]
    }
   ],
   "source": [
    "df.info()"
   ]
  },
  {
   "cell_type": "markdown",
   "id": "2bfd84a4",
   "metadata": {},
   "source": [
    "У колонки version смешанный тип данных, сразу проверим какие там значения."
   ]
  },
  {
   "cell_type": "code",
   "execution_count": 86,
   "id": "1967cbe9",
   "metadata": {},
   "outputs": [
    {
     "data": {
      "text/plain": [
       "gate_40    45489\n",
       "gate_30    44700\n",
       "Name: version, dtype: int64"
      ]
     },
     "execution_count": 86,
     "metadata": {},
     "output_type": "execute_result"
    }
   ],
   "source": [
    "df['version'].value_counts()"
   ]
  },
  {
   "cell_type": "markdown",
   "id": "8c48e4b2",
   "metadata": {},
   "source": [
    "Все в порядке."
   ]
  },
  {
   "cell_type": "code",
   "execution_count": 89,
   "id": "a624db8a",
   "metadata": {},
   "outputs": [
    {
     "data": {
      "text/plain": [
       "True"
      ]
     },
     "execution_count": 89,
     "metadata": {},
     "output_type": "execute_result"
    }
   ],
   "source": [
    "df['userid'].nunique() == df['userid'].count()"
   ]
  },
  {
   "cell_type": "code",
   "execution_count": 84,
   "id": "b1c9ae1f",
   "metadata": {},
   "outputs": [
    {
     "data": {
      "text/plain": [
       "True"
      ]
     },
     "execution_count": 84,
     "metadata": {},
     "output_type": "execute_result"
    }
   ],
   "source": [
    "df.drop_duplicates().size == df.size"
   ]
  },
  {
   "cell_type": "markdown",
   "id": "2997f337",
   "metadata": {},
   "source": [
    "Итак, пропущенных значений и дубликатов нет."
   ]
  },
  {
   "cell_type": "markdown",
   "id": "f50d96a3",
   "metadata": {},
   "source": [
    "А это интересный список пользователей, которые возвращались в игру, играли в нее, но так и не прошли ни одного уровня."
   ]
  },
  {
   "cell_type": "code",
   "execution_count": 136,
   "id": "d740b3c7",
   "metadata": {},
   "outputs": [
    {
     "data": {
      "text/html": [
       "<div>\n",
       "<style scoped>\n",
       "    .dataframe tbody tr th:only-of-type {\n",
       "        vertical-align: middle;\n",
       "    }\n",
       "\n",
       "    .dataframe tbody tr th {\n",
       "        vertical-align: top;\n",
       "    }\n",
       "\n",
       "    .dataframe thead th {\n",
       "        text-align: right;\n",
       "    }\n",
       "</style>\n",
       "<table border=\"1\" class=\"dataframe\">\n",
       "  <thead>\n",
       "    <tr style=\"text-align: right;\">\n",
       "      <th></th>\n",
       "      <th>userid</th>\n",
       "      <th>version</th>\n",
       "      <th>sum_gamerounds</th>\n",
       "      <th>retention_1</th>\n",
       "      <th>retention_7</th>\n",
       "    </tr>\n",
       "  </thead>\n",
       "  <tbody>\n",
       "    <tr>\n",
       "      <th>1000</th>\n",
       "      <td>110479</td>\n",
       "      <td>gate_30</td>\n",
       "      <td>0</td>\n",
       "      <td>False</td>\n",
       "      <td>True</td>\n",
       "    </tr>\n",
       "    <tr>\n",
       "      <th>1872</th>\n",
       "      <td>203165</td>\n",
       "      <td>gate_30</td>\n",
       "      <td>0</td>\n",
       "      <td>True</td>\n",
       "      <td>False</td>\n",
       "    </tr>\n",
       "    <tr>\n",
       "      <th>2330</th>\n",
       "      <td>257330</td>\n",
       "      <td>gate_30</td>\n",
       "      <td>0</td>\n",
       "      <td>True</td>\n",
       "      <td>False</td>\n",
       "    </tr>\n",
       "    <tr>\n",
       "      <th>2803</th>\n",
       "      <td>307703</td>\n",
       "      <td>gate_40</td>\n",
       "      <td>0</td>\n",
       "      <td>True</td>\n",
       "      <td>True</td>\n",
       "    </tr>\n",
       "    <tr>\n",
       "      <th>3994</th>\n",
       "      <td>442819</td>\n",
       "      <td>gate_30</td>\n",
       "      <td>0</td>\n",
       "      <td>True</td>\n",
       "      <td>False</td>\n",
       "    </tr>\n",
       "    <tr>\n",
       "      <th>...</th>\n",
       "      <td>...</td>\n",
       "      <td>...</td>\n",
       "      <td>...</td>\n",
       "      <td>...</td>\n",
       "      <td>...</td>\n",
       "    </tr>\n",
       "    <tr>\n",
       "      <th>86779</th>\n",
       "      <td>9616345</td>\n",
       "      <td>gate_40</td>\n",
       "      <td>0</td>\n",
       "      <td>True</td>\n",
       "      <td>False</td>\n",
       "    </tr>\n",
       "    <tr>\n",
       "      <th>87635</th>\n",
       "      <td>9708844</td>\n",
       "      <td>gate_30</td>\n",
       "      <td>0</td>\n",
       "      <td>True</td>\n",
       "      <td>False</td>\n",
       "    </tr>\n",
       "    <tr>\n",
       "      <th>87973</th>\n",
       "      <td>9750017</td>\n",
       "      <td>gate_40</td>\n",
       "      <td>0</td>\n",
       "      <td>True</td>\n",
       "      <td>False</td>\n",
       "    </tr>\n",
       "    <tr>\n",
       "      <th>88671</th>\n",
       "      <td>9830174</td>\n",
       "      <td>gate_40</td>\n",
       "      <td>0</td>\n",
       "      <td>True</td>\n",
       "      <td>False</td>\n",
       "    </tr>\n",
       "    <tr>\n",
       "      <th>90007</th>\n",
       "      <td>9979148</td>\n",
       "      <td>gate_40</td>\n",
       "      <td>0</td>\n",
       "      <td>True</td>\n",
       "      <td>False</td>\n",
       "    </tr>\n",
       "  </tbody>\n",
       "</table>\n",
       "<p>111 rows × 5 columns</p>\n",
       "</div>"
      ],
      "text/plain": [
       "        userid  version  sum_gamerounds  retention_1  retention_7\n",
       "1000    110479  gate_30               0        False         True\n",
       "1872    203165  gate_30               0         True        False\n",
       "2330    257330  gate_30               0         True        False\n",
       "2803    307703  gate_40               0         True         True\n",
       "3994    442819  gate_30               0         True        False\n",
       "...        ...      ...             ...          ...          ...\n",
       "86779  9616345  gate_40               0         True        False\n",
       "87635  9708844  gate_30               0         True        False\n",
       "87973  9750017  gate_40               0         True        False\n",
       "88671  9830174  gate_40               0         True        False\n",
       "90007  9979148  gate_40               0         True        False\n",
       "\n",
       "[111 rows x 5 columns]"
      ]
     },
     "execution_count": 136,
     "metadata": {},
     "output_type": "execute_result"
    }
   ],
   "source": [
    "df[((df['sum_gamerounds'] == 0) & (df['retention_1'] == True))\n",
    "   | ((df['sum_gamerounds'] == 0) & (df['retention_7'] == True))]"
   ]
  },
  {
   "cell_type": "markdown",
   "id": "0640f24e",
   "metadata": {},
   "source": [
    "А это список людей, которые вернулись в игрутолько через несколько дней после установки."
   ]
  },
  {
   "cell_type": "code",
   "execution_count": 342,
   "id": "58ef0a09",
   "metadata": {},
   "outputs": [
    {
     "data": {
      "text/html": [
       "<div>\n",
       "<style scoped>\n",
       "    .dataframe tbody tr th:only-of-type {\n",
       "        vertical-align: middle;\n",
       "    }\n",
       "\n",
       "    .dataframe tbody tr th {\n",
       "        vertical-align: top;\n",
       "    }\n",
       "\n",
       "    .dataframe thead th {\n",
       "        text-align: right;\n",
       "    }\n",
       "</style>\n",
       "<table border=\"1\" class=\"dataframe\">\n",
       "  <thead>\n",
       "    <tr style=\"text-align: right;\">\n",
       "      <th></th>\n",
       "      <th>userid</th>\n",
       "      <th>version</th>\n",
       "      <th>sum_gamerounds</th>\n",
       "      <th>retention_1</th>\n",
       "      <th>retention_7</th>\n",
       "    </tr>\n",
       "  </thead>\n",
       "  <tbody>\n",
       "    <tr>\n",
       "      <th>10</th>\n",
       "      <td>1842</td>\n",
       "      <td>gate_40</td>\n",
       "      <td>3</td>\n",
       "      <td>False</td>\n",
       "      <td>True</td>\n",
       "    </tr>\n",
       "    <tr>\n",
       "      <th>23</th>\n",
       "      <td>2729</td>\n",
       "      <td>gate_30</td>\n",
       "      <td>105</td>\n",
       "      <td>False</td>\n",
       "      <td>True</td>\n",
       "    </tr>\n",
       "    <tr>\n",
       "      <th>90</th>\n",
       "      <td>8788</td>\n",
       "      <td>gate_30</td>\n",
       "      <td>19</td>\n",
       "      <td>False</td>\n",
       "      <td>True</td>\n",
       "    </tr>\n",
       "    <tr>\n",
       "      <th>102</th>\n",
       "      <td>10200</td>\n",
       "      <td>gate_40</td>\n",
       "      <td>106</td>\n",
       "      <td>False</td>\n",
       "      <td>True</td>\n",
       "    </tr>\n",
       "    <tr>\n",
       "      <th>143</th>\n",
       "      <td>13429</td>\n",
       "      <td>gate_30</td>\n",
       "      <td>60</td>\n",
       "      <td>False</td>\n",
       "      <td>True</td>\n",
       "    </tr>\n",
       "    <tr>\n",
       "      <th>...</th>\n",
       "      <td>...</td>\n",
       "      <td>...</td>\n",
       "      <td>...</td>\n",
       "      <td>...</td>\n",
       "      <td>...</td>\n",
       "    </tr>\n",
       "    <tr>\n",
       "      <th>89967</th>\n",
       "      <td>9975174</td>\n",
       "      <td>gate_30</td>\n",
       "      <td>26</td>\n",
       "      <td>False</td>\n",
       "      <td>True</td>\n",
       "    </tr>\n",
       "    <tr>\n",
       "      <th>90044</th>\n",
       "      <td>9982773</td>\n",
       "      <td>gate_30</td>\n",
       "      <td>1</td>\n",
       "      <td>False</td>\n",
       "      <td>True</td>\n",
       "    </tr>\n",
       "    <tr>\n",
       "      <th>90046</th>\n",
       "      <td>9983040</td>\n",
       "      <td>gate_30</td>\n",
       "      <td>137</td>\n",
       "      <td>False</td>\n",
       "      <td>True</td>\n",
       "    </tr>\n",
       "    <tr>\n",
       "      <th>90156</th>\n",
       "      <td>9996093</td>\n",
       "      <td>gate_40</td>\n",
       "      <td>23</td>\n",
       "      <td>False</td>\n",
       "      <td>True</td>\n",
       "    </tr>\n",
       "    <tr>\n",
       "      <th>90165</th>\n",
       "      <td>9996935</td>\n",
       "      <td>gate_30</td>\n",
       "      <td>35</td>\n",
       "      <td>False</td>\n",
       "      <td>True</td>\n",
       "    </tr>\n",
       "  </tbody>\n",
       "</table>\n",
       "<p>3599 rows × 5 columns</p>\n",
       "</div>"
      ],
      "text/plain": [
       "        userid  version  sum_gamerounds  retention_1  retention_7\n",
       "10        1842  gate_40               3        False         True\n",
       "23        2729  gate_30             105        False         True\n",
       "90        8788  gate_30              19        False         True\n",
       "102      10200  gate_40             106        False         True\n",
       "143      13429  gate_30              60        False         True\n",
       "...        ...      ...             ...          ...          ...\n",
       "89967  9975174  gate_30              26        False         True\n",
       "90044  9982773  gate_30               1        False         True\n",
       "90046  9983040  gate_30             137        False         True\n",
       "90156  9996093  gate_40              23        False         True\n",
       "90165  9996935  gate_30              35        False         True\n",
       "\n",
       "[3599 rows x 5 columns]"
      ]
     },
     "execution_count": 342,
     "metadata": {},
     "output_type": "execute_result"
    }
   ],
   "source": [
    "long_retention = df[(df['retention_1'] == False) & (df['retention_7'] == True)]\n",
    "long_retention"
   ]
  },
  {
   "cell_type": "code",
   "execution_count": 343,
   "id": "8326027d",
   "metadata": {},
   "outputs": [
    {
     "data": {
      "text/html": [
       "<div>\n",
       "<style scoped>\n",
       "    .dataframe tbody tr th:only-of-type {\n",
       "        vertical-align: middle;\n",
       "    }\n",
       "\n",
       "    .dataframe tbody tr th {\n",
       "        vertical-align: top;\n",
       "    }\n",
       "\n",
       "    .dataframe thead tr th {\n",
       "        text-align: left;\n",
       "    }\n",
       "\n",
       "    .dataframe thead tr:last-of-type th {\n",
       "        text-align: right;\n",
       "    }\n",
       "</style>\n",
       "<table border=\"1\" class=\"dataframe\">\n",
       "  <thead>\n",
       "    <tr>\n",
       "      <th></th>\n",
       "      <th colspan=\"2\" halign=\"left\">userid</th>\n",
       "      <th colspan=\"6\" halign=\"left\">sum_gamerounds</th>\n",
       "      <th>retention_1</th>\n",
       "      <th>retention_7</th>\n",
       "    </tr>\n",
       "    <tr>\n",
       "      <th></th>\n",
       "      <th>count</th>\n",
       "      <th>nunique</th>\n",
       "      <th>mean</th>\n",
       "      <th>median</th>\n",
       "      <th>std</th>\n",
       "      <th>sum</th>\n",
       "      <th>min</th>\n",
       "      <th>max</th>\n",
       "      <th>mean</th>\n",
       "      <th>mean</th>\n",
       "    </tr>\n",
       "    <tr>\n",
       "      <th>version</th>\n",
       "      <th></th>\n",
       "      <th></th>\n",
       "      <th></th>\n",
       "      <th></th>\n",
       "      <th></th>\n",
       "      <th></th>\n",
       "      <th></th>\n",
       "      <th></th>\n",
       "      <th></th>\n",
       "      <th></th>\n",
       "    </tr>\n",
       "  </thead>\n",
       "  <tbody>\n",
       "    <tr>\n",
       "      <th>gate_30</th>\n",
       "      <td>1826</td>\n",
       "      <td>1826</td>\n",
       "      <td>100.431544</td>\n",
       "      <td>43.0</td>\n",
       "      <td>1168.683901</td>\n",
       "      <td>183388</td>\n",
       "      <td>0</td>\n",
       "      <td>49854</td>\n",
       "      <td>0.0</td>\n",
       "      <td>1.0</td>\n",
       "    </tr>\n",
       "    <tr>\n",
       "      <th>gate_40</th>\n",
       "      <td>1773</td>\n",
       "      <td>1773</td>\n",
       "      <td>75.261139</td>\n",
       "      <td>47.0</td>\n",
       "      <td>94.478048</td>\n",
       "      <td>133438</td>\n",
       "      <td>0</td>\n",
       "      <td>1241</td>\n",
       "      <td>0.0</td>\n",
       "      <td>1.0</td>\n",
       "    </tr>\n",
       "  </tbody>\n",
       "</table>\n",
       "</div>"
      ],
      "text/plain": [
       "        userid         sum_gamerounds                                         \\\n",
       "         count nunique           mean median          std     sum min    max   \n",
       "version                                                                        \n",
       "gate_30   1826    1826     100.431544   43.0  1168.683901  183388   0  49854   \n",
       "gate_40   1773    1773      75.261139   47.0    94.478048  133438   0   1241   \n",
       "\n",
       "        retention_1 retention_7  \n",
       "               mean        mean  \n",
       "version                          \n",
       "gate_30         0.0         1.0  \n",
       "gate_40         0.0         1.0  "
      ]
     },
     "execution_count": 343,
     "metadata": {},
     "output_type": "execute_result"
    }
   ],
   "source": [
    "long_retention.groupby('version').agg({'userid': ['count', 'nunique'],\n",
    "                          'sum_gamerounds': ['mean', 'median', 'std', 'sum', 'min', 'max'],\n",
    "                            'retention_1': 'mean',\n",
    "                               'retention_7': 'mean'})"
   ]
  },
  {
   "cell_type": "markdown",
   "id": "4dee3711",
   "metadata": {},
   "source": [
    "## Изучим тестовые группы"
   ]
  },
  {
   "cell_type": "markdown",
   "id": "86b3e8df",
   "metadata": {},
   "source": [
    "**gate_30** - контрольная группа\n",
    "\n",
    "**gate_40** - тестовая группа"
   ]
  },
  {
   "cell_type": "code",
   "execution_count": 93,
   "id": "ffd0d2ab",
   "metadata": {},
   "outputs": [
    {
     "data": {
      "text/plain": [
       "gate_40    45489\n",
       "gate_30    44700\n",
       "Name: version, dtype: int64"
      ]
     },
     "execution_count": 93,
     "metadata": {},
     "output_type": "execute_result"
    }
   ],
   "source": [
    "df['version'].value_counts()"
   ]
  },
  {
   "cell_type": "code",
   "execution_count": 90,
   "id": "756c7737",
   "metadata": {},
   "outputs": [
    {
     "data": {
      "text/plain": [
       "gate_40    0.504374\n",
       "gate_30    0.495626\n",
       "Name: version, dtype: float64"
      ]
     },
     "execution_count": 90,
     "metadata": {},
     "output_type": "execute_result"
    }
   ],
   "source": [
    "df['version'].value_counts(normalize=True)"
   ]
  },
  {
   "cell_type": "markdown",
   "id": "a51656a6",
   "metadata": {},
   "source": [
    "Выборки практически одинаковые по размеру.\n",
    "\n",
    "Теперь посмотрим на сводку по каждой группе:"
   ]
  },
  {
   "cell_type": "code",
   "execution_count": 109,
   "id": "c2d0f15f",
   "metadata": {},
   "outputs": [
    {
     "data": {
      "text/html": [
       "<div>\n",
       "<style scoped>\n",
       "    .dataframe tbody tr th:only-of-type {\n",
       "        vertical-align: middle;\n",
       "    }\n",
       "\n",
       "    .dataframe tbody tr th {\n",
       "        vertical-align: top;\n",
       "    }\n",
       "\n",
       "    .dataframe thead tr th {\n",
       "        text-align: left;\n",
       "    }\n",
       "\n",
       "    .dataframe thead tr:last-of-type th {\n",
       "        text-align: right;\n",
       "    }\n",
       "</style>\n",
       "<table border=\"1\" class=\"dataframe\">\n",
       "  <thead>\n",
       "    <tr>\n",
       "      <th></th>\n",
       "      <th colspan=\"2\" halign=\"left\">userid</th>\n",
       "      <th colspan=\"6\" halign=\"left\">sum_gamerounds</th>\n",
       "      <th>retention_1</th>\n",
       "      <th>retention_7</th>\n",
       "    </tr>\n",
       "    <tr>\n",
       "      <th></th>\n",
       "      <th>count</th>\n",
       "      <th>nunique</th>\n",
       "      <th>mean</th>\n",
       "      <th>median</th>\n",
       "      <th>std</th>\n",
       "      <th>sum</th>\n",
       "      <th>min</th>\n",
       "      <th>max</th>\n",
       "      <th>mean</th>\n",
       "      <th>mean</th>\n",
       "    </tr>\n",
       "    <tr>\n",
       "      <th>version</th>\n",
       "      <th></th>\n",
       "      <th></th>\n",
       "      <th></th>\n",
       "      <th></th>\n",
       "      <th></th>\n",
       "      <th></th>\n",
       "      <th></th>\n",
       "      <th></th>\n",
       "      <th></th>\n",
       "      <th></th>\n",
       "    </tr>\n",
       "  </thead>\n",
       "  <tbody>\n",
       "    <tr>\n",
       "      <th>gate_30</th>\n",
       "      <td>44700</td>\n",
       "      <td>44700</td>\n",
       "      <td>52.456264</td>\n",
       "      <td>17.0</td>\n",
       "      <td>256.716423</td>\n",
       "      <td>2344795</td>\n",
       "      <td>0</td>\n",
       "      <td>49854</td>\n",
       "      <td>0.448188</td>\n",
       "      <td>0.190201</td>\n",
       "    </tr>\n",
       "    <tr>\n",
       "      <th>gate_40</th>\n",
       "      <td>45489</td>\n",
       "      <td>45489</td>\n",
       "      <td>51.298776</td>\n",
       "      <td>16.0</td>\n",
       "      <td>103.294416</td>\n",
       "      <td>2333530</td>\n",
       "      <td>0</td>\n",
       "      <td>2640</td>\n",
       "      <td>0.442283</td>\n",
       "      <td>0.182000</td>\n",
       "    </tr>\n",
       "  </tbody>\n",
       "</table>\n",
       "</div>"
      ],
      "text/plain": [
       "        userid         sum_gamerounds                                         \\\n",
       "         count nunique           mean median         std      sum min    max   \n",
       "version                                                                        \n",
       "gate_30  44700   44700      52.456264   17.0  256.716423  2344795   0  49854   \n",
       "gate_40  45489   45489      51.298776   16.0  103.294416  2333530   0   2640   \n",
       "\n",
       "        retention_1 retention_7  \n",
       "               mean        mean  \n",
       "version                          \n",
       "gate_30    0.448188    0.190201  \n",
       "gate_40    0.442283    0.182000  "
      ]
     },
     "execution_count": 109,
     "metadata": {},
     "output_type": "execute_result"
    }
   ],
   "source": [
    "df.groupby('version').agg({'userid': ['count', 'nunique'],\n",
    "                          'sum_gamerounds': ['mean', 'median', 'std', 'sum', 'min', 'max'],\n",
    "                            'retention_1': 'mean',\n",
    "                               'retention_7': 'mean'})"
   ]
  },
  {
   "cell_type": "markdown",
   "id": "2eb87a57",
   "metadata": {},
   "source": [
    "Никто из пользователей не попал сразу в обе группы. У контрольной группы показатели чуть выше, а стандартное отклонение вообще намного больше. Судя по максимальному значению по пройденным уровням, в контрольной группе присутствуют явно выраженные выбросы. Их мы изучим позже."
   ]
  },
  {
   "cell_type": "markdown",
   "id": "a8c31a27",
   "metadata": {},
   "source": [
    "**К сожалению, данные собраны плохо. Не хватает важной метрики: количества пройденных уровней для каждого игрока. Наличие этой метрики помогло бы так сильно не исказить выводы об истинной причине оттока пользвателей. Также мы могли бы наверняка знать, какие пользователи даже не дошли до \"gate\" уровня (в котором мы предлагаем подождать или совершить покупку).**\n",
    "\n",
    "Поскольку мы наверняка не знаем какие уровни именно учтены в **sum_gamerounds** и сколько раз они там повторяются, мы уберем из эксперимента тех, у кого эта метрика **меньше 30** в контрольной группе, и у кого **меньше 40** в тестовой группе.\n",
    "\n",
    "\n",
    "Я сделаю следующее:\n",
    "\n",
    "1) Отделю от общего списка тех игроков, которые даже не дошли до 30 уровня (т.е. как минимум те, у кого метрика **sum_gamerounds** < 30: *они точно не видели нашего предложения подождать или совершить покупку, поэтому большой разницы между ними быть не должно. Если она есть, мы можем убедиться в неоднородности изначальных данных*;\n",
    "\n",
    "2) Уберу из данных всех, кто не видел нашего предложения вовсе (т.е. не дошел до нужного уровня), и сравню уже реальный эффект от нашего эксперимента: *таким образом в наших данных останется минимальное количество людей, которые так и не увидели \"gate\" уровень, убрать их всех с имеющимся набором данных не получится*."
   ]
  },
  {
   "cell_type": "markdown",
   "id": "d850b5ec",
   "metadata": {},
   "source": [
    "## Проверка гомогенности выборок"
   ]
  },
  {
   "cell_type": "markdown",
   "id": "220a2604",
   "metadata": {},
   "source": [
    "Созданим датафрейм с пользователями, которые точно не дошли до 30 уровня."
   ]
  },
  {
   "cell_type": "code",
   "execution_count": 182,
   "id": "9fe38ca7",
   "metadata": {},
   "outputs": [
    {
     "data": {
      "text/html": [
       "<div>\n",
       "<style scoped>\n",
       "    .dataframe tbody tr th:only-of-type {\n",
       "        vertical-align: middle;\n",
       "    }\n",
       "\n",
       "    .dataframe tbody tr th {\n",
       "        vertical-align: top;\n",
       "    }\n",
       "\n",
       "    .dataframe thead th {\n",
       "        text-align: right;\n",
       "    }\n",
       "</style>\n",
       "<table border=\"1\" class=\"dataframe\">\n",
       "  <thead>\n",
       "    <tr style=\"text-align: right;\">\n",
       "      <th></th>\n",
       "      <th>userid</th>\n",
       "      <th>version</th>\n",
       "      <th>sum_gamerounds</th>\n",
       "      <th>retention_1</th>\n",
       "      <th>retention_7</th>\n",
       "    </tr>\n",
       "  </thead>\n",
       "  <tbody>\n",
       "    <tr>\n",
       "      <th>0</th>\n",
       "      <td>116</td>\n",
       "      <td>gate_30</td>\n",
       "      <td>3</td>\n",
       "      <td>False</td>\n",
       "      <td>False</td>\n",
       "    </tr>\n",
       "    <tr>\n",
       "      <th>3</th>\n",
       "      <td>483</td>\n",
       "      <td>gate_40</td>\n",
       "      <td>1</td>\n",
       "      <td>False</td>\n",
       "      <td>False</td>\n",
       "    </tr>\n",
       "    <tr>\n",
       "      <th>6</th>\n",
       "      <td>1066</td>\n",
       "      <td>gate_30</td>\n",
       "      <td>0</td>\n",
       "      <td>False</td>\n",
       "      <td>False</td>\n",
       "    </tr>\n",
       "    <tr>\n",
       "      <th>7</th>\n",
       "      <td>1444</td>\n",
       "      <td>gate_40</td>\n",
       "      <td>2</td>\n",
       "      <td>False</td>\n",
       "      <td>False</td>\n",
       "    </tr>\n",
       "    <tr>\n",
       "      <th>10</th>\n",
       "      <td>1842</td>\n",
       "      <td>gate_40</td>\n",
       "      <td>3</td>\n",
       "      <td>False</td>\n",
       "      <td>True</td>\n",
       "    </tr>\n",
       "    <tr>\n",
       "      <th>...</th>\n",
       "      <td>...</td>\n",
       "      <td>...</td>\n",
       "      <td>...</td>\n",
       "      <td>...</td>\n",
       "      <td>...</td>\n",
       "    </tr>\n",
       "    <tr>\n",
       "      <th>90181</th>\n",
       "      <td>9998733</td>\n",
       "      <td>gate_40</td>\n",
       "      <td>10</td>\n",
       "      <td>True</td>\n",
       "      <td>False</td>\n",
       "    </tr>\n",
       "    <tr>\n",
       "      <th>90182</th>\n",
       "      <td>9999178</td>\n",
       "      <td>gate_30</td>\n",
       "      <td>21</td>\n",
       "      <td>True</td>\n",
       "      <td>False</td>\n",
       "    </tr>\n",
       "    <tr>\n",
       "      <th>90183</th>\n",
       "      <td>9999349</td>\n",
       "      <td>gate_30</td>\n",
       "      <td>10</td>\n",
       "      <td>False</td>\n",
       "      <td>False</td>\n",
       "    </tr>\n",
       "    <tr>\n",
       "      <th>90186</th>\n",
       "      <td>9999710</td>\n",
       "      <td>gate_30</td>\n",
       "      <td>28</td>\n",
       "      <td>True</td>\n",
       "      <td>False</td>\n",
       "    </tr>\n",
       "    <tr>\n",
       "      <th>90188</th>\n",
       "      <td>9999861</td>\n",
       "      <td>gate_40</td>\n",
       "      <td>16</td>\n",
       "      <td>False</td>\n",
       "      <td>False</td>\n",
       "    </tr>\n",
       "  </tbody>\n",
       "</table>\n",
       "<p>56920 rows × 5 columns</p>\n",
       "</div>"
      ],
      "text/plain": [
       "        userid  version  sum_gamerounds  retention_1  retention_7\n",
       "0          116  gate_30               3        False        False\n",
       "3          483  gate_40               1        False        False\n",
       "6         1066  gate_30               0        False        False\n",
       "7         1444  gate_40               2        False        False\n",
       "10        1842  gate_40               3        False         True\n",
       "...        ...      ...             ...          ...          ...\n",
       "90181  9998733  gate_40              10         True        False\n",
       "90182  9999178  gate_30              21         True        False\n",
       "90183  9999349  gate_30              10        False        False\n",
       "90186  9999710  gate_30              28         True        False\n",
       "90188  9999861  gate_40              16        False        False\n",
       "\n",
       "[56920 rows x 5 columns]"
      ]
     },
     "execution_count": 182,
     "metadata": {},
     "output_type": "execute_result"
    }
   ],
   "source": [
    "under30 = df[df['sum_gamerounds'] < 30]\n",
    "under30"
   ]
  },
  {
   "cell_type": "code",
   "execution_count": 119,
   "id": "e781dbf5",
   "metadata": {},
   "outputs": [
    {
     "data": {
      "text/html": [
       "<div>\n",
       "<style scoped>\n",
       "    .dataframe tbody tr th:only-of-type {\n",
       "        vertical-align: middle;\n",
       "    }\n",
       "\n",
       "    .dataframe tbody tr th {\n",
       "        vertical-align: top;\n",
       "    }\n",
       "\n",
       "    .dataframe thead tr th {\n",
       "        text-align: left;\n",
       "    }\n",
       "\n",
       "    .dataframe thead tr:last-of-type th {\n",
       "        text-align: right;\n",
       "    }\n",
       "</style>\n",
       "<table border=\"1\" class=\"dataframe\">\n",
       "  <thead>\n",
       "    <tr>\n",
       "      <th></th>\n",
       "      <th colspan=\"2\" halign=\"left\">userid</th>\n",
       "      <th colspan=\"6\" halign=\"left\">sum_gamerounds</th>\n",
       "      <th>retention_1</th>\n",
       "      <th>retention_7</th>\n",
       "    </tr>\n",
       "    <tr>\n",
       "      <th></th>\n",
       "      <th>count</th>\n",
       "      <th>nunique</th>\n",
       "      <th>mean</th>\n",
       "      <th>median</th>\n",
       "      <th>std</th>\n",
       "      <th>sum</th>\n",
       "      <th>min</th>\n",
       "      <th>max</th>\n",
       "      <th>mean</th>\n",
       "      <th>mean</th>\n",
       "    </tr>\n",
       "    <tr>\n",
       "      <th>version</th>\n",
       "      <th></th>\n",
       "      <th></th>\n",
       "      <th></th>\n",
       "      <th></th>\n",
       "      <th></th>\n",
       "      <th></th>\n",
       "      <th></th>\n",
       "      <th></th>\n",
       "      <th></th>\n",
       "      <th></th>\n",
       "    </tr>\n",
       "  </thead>\n",
       "  <tbody>\n",
       "    <tr>\n",
       "      <th>gate_30</th>\n",
       "      <td>28044</td>\n",
       "      <td>28044</td>\n",
       "      <td>9.324205</td>\n",
       "      <td>7.0</td>\n",
       "      <td>8.00230</td>\n",
       "      <td>261488</td>\n",
       "      <td>0</td>\n",
       "      <td>29</td>\n",
       "      <td>0.238661</td>\n",
       "      <td>0.042576</td>\n",
       "    </tr>\n",
       "    <tr>\n",
       "      <th>gate_40</th>\n",
       "      <td>28876</td>\n",
       "      <td>28876</td>\n",
       "      <td>9.203768</td>\n",
       "      <td>7.0</td>\n",
       "      <td>7.95069</td>\n",
       "      <td>265768</td>\n",
       "      <td>0</td>\n",
       "      <td>29</td>\n",
       "      <td>0.235420</td>\n",
       "      <td>0.039306</td>\n",
       "    </tr>\n",
       "  </tbody>\n",
       "</table>\n",
       "</div>"
      ],
      "text/plain": [
       "        userid         sum_gamerounds                                  \\\n",
       "         count nunique           mean median      std     sum min max   \n",
       "version                                                                 \n",
       "gate_30  28044   28044       9.324205    7.0  8.00230  261488   0  29   \n",
       "gate_40  28876   28876       9.203768    7.0  7.95069  265768   0  29   \n",
       "\n",
       "        retention_1 retention_7  \n",
       "               mean        mean  \n",
       "version                          \n",
       "gate_30    0.238661    0.042576  \n",
       "gate_40    0.235420    0.039306  "
      ]
     },
     "execution_count": 119,
     "metadata": {},
     "output_type": "execute_result"
    }
   ],
   "source": [
    "under30.groupby('version').agg({'userid': ['count', 'nunique'],\n",
    "                          'sum_gamerounds': ['mean', 'median', 'std', 'sum', 'min', 'max'],\n",
    "                            'retention_1': 'mean',\n",
    "                               'retention_7': 'mean'})"
   ]
  },
  {
   "cell_type": "code",
   "execution_count": 180,
   "id": "392d2990",
   "metadata": {},
   "outputs": [
    {
     "data": {
      "image/png": "[encoded data removed]",
      "text/plain": [
       "<Figure size 800x600 with 2 Axes>"
      ]
     },
     "metadata": {},
     "output_type": "display_data"
    },
    {
     "data": {
      "image/png": "[encoded data removed]",
      "text/plain": [
       "<Figure size 1600x600 with 1 Axes>"
      ]
     },
     "metadata": {},
     "output_type": "display_data"
    }
   ],
   "source": [
    "plt.figure(figsize=(8, 6), layout='tight')\n",
    "plt.subplot(2, 2, 1)\n",
    "sns.barplot(under30, x='version', y='retention_1')\n",
    "plt.title('RetentionRate 1 day')\n",
    "\n",
    "plt.subplot(2, 2, 2)\n",
    "sns.barplot(under30, x='version', y='retention_7')\n",
    "plt.title('RetentionRate 7 days')\n",
    "\n",
    "plt.figure(figsize=(16, 6), layout='tight')\n",
    "plt.subplot(2, 2, 3)\n",
    "sns.histplot(under30, x='sum_gamerounds', hue='version', discrete=True)\n",
    "plt.title('Пользователи, не дошедшие до 30 уровня');"
   ]
  },
  {
   "cell_type": "markdown",
   "id": "ad87e01f",
   "metadata": {},
   "source": [
    "Напоминаю, что мы проверяем гомогенность даннных на примере пользователей, которые не видели разные версии игры (sum_gamerounds < 30).\n",
    "\n",
    "**H0:** Средняя sum_gamerounds (gate_30) = Средняя sum_gamerounds (gate_40)\n",
    "\n",
    "**H1:** Средняя sum_gamerounds (gate_30) != Средняя sum_gamerounds (gate_40)"
   ]
  },
  {
   "cell_type": "markdown",
   "id": "c885f0df",
   "metadata": {},
   "source": [
    "Распределение явно не нормальное, но для формальности проведем тест Шапиро-Уилка."
   ]
  },
  {
   "cell_type": "code",
   "execution_count": 187,
   "id": "6cf47bb5",
   "metadata": {},
   "outputs": [
    {
     "data": {
      "text/plain": [
       "(0.0, True)"
      ]
     },
     "execution_count": 187,
     "metadata": {},
     "output_type": "execute_result"
    }
   ],
   "source": [
    "_, pval = stats.shapiro(under30['sum_gamerounds'])\n",
    "pval, pval < 0.05"
   ]
  },
  {
   "cell_type": "markdown",
   "id": "ccbcafdd",
   "metadata": {},
   "source": [
    "Я буду использовать U-тест Манна-Уитни."
   ]
  },
  {
   "cell_type": "code",
   "execution_count": 221,
   "id": "e861d099",
   "metadata": {},
   "outputs": [
    {
     "data": {
      "text/plain": [
       "(0.0728013178603117, False)"
      ]
     },
     "execution_count": 221,
     "metadata": {},
     "output_type": "execute_result"
    }
   ],
   "source": [
    "under30_rounds_control = under30[under30['version'] == 'gate_30']['sum_gamerounds']\n",
    "under30_rounds_test = under30[under30['version'] == 'gate_40']['sum_gamerounds']\n",
    "\n",
    "_, pval = stats.mannwhitneyu(under30_rounds_control, under30_rounds_test)\n",
    "pval, pval < 0.05"
   ]
  },
  {
   "cell_type": "markdown",
   "id": "6ebc6029",
   "metadata": {},
   "source": [
    "Мы не отклоняем H0. Значимой разницы в количестве пройденных уровней не обнаружено."
   ]
  },
  {
   "cell_type": "markdown",
   "id": "2f7d5e8b",
   "metadata": {},
   "source": [
    "Для полноты картины сравним еще разницу в ретеншенах."
   ]
  },
  {
   "cell_type": "markdown",
   "id": "224c7ec4",
   "metadata": {},
   "source": [
    "**H0:** retention_1 (gate_30) = retention_1 (gate_40)\n",
    "\n",
    "**H1:** retention_1 (gate_30) != retention_1 (gate_40)"
   ]
  },
  {
   "cell_type": "code",
   "execution_count": 226,
   "id": "aca0bbca",
   "metadata": {},
   "outputs": [
    {
     "data": {
      "text/plain": [
       "(0.3634333964640146, False)"
      ]
     },
     "execution_count": 226,
     "metadata": {},
     "output_type": "execute_result"
    }
   ],
   "source": [
    "under30_retention1_control = under30[under30['version'] == 'gate_30']['retention_1'].sum()\n",
    "under30_retention1_test = under30[under30['version'] == 'gate_40']['retention_1'].sum()\n",
    "\n",
    "under30_control = len(under30[under30['version'] == 'gate_30'])\n",
    "under30_test = len(under30[under30['version'] == 'gate_40'])\n",
    "\n",
    "_, pval = proportions_ztest([under30_retention1_control, under30_retention1_test],\n",
    "                 [under30_control, under30_test])\n",
    "pval, pval < 0.05"
   ]
  },
  {
   "cell_type": "markdown",
   "id": "a62ecd1d",
   "metadata": {},
   "source": [
    "Мы не отклоняем H0. Значимой разницы в **retention_1** не обнаружено."
   ]
  },
  {
   "cell_type": "markdown",
   "id": "97bab7fb",
   "metadata": {},
   "source": [
    "**H0:** retention_7 (gate_30) = retention_7 (gate_40)\n",
    "\n",
    "**H1:** retention_7 (gate_30) != retention_7 (gate_40)"
   ]
  },
  {
   "cell_type": "code",
   "execution_count": 227,
   "id": "98688afc",
   "metadata": {},
   "outputs": [
    {
     "data": {
      "text/plain": [
       "(0.04896787766058105, True)"
      ]
     },
     "execution_count": 227,
     "metadata": {},
     "output_type": "execute_result"
    }
   ],
   "source": [
    "under30_retention7_control = under30[under30['version'] == 'gate_30']['retention_7'].sum()\n",
    "under30_retention7_test = under30[under30['version'] == 'gate_40']['retention_7'].sum()\n",
    "\n",
    "_, pval = proportions_ztest([under30_retention7_control, under30_retention7_test],\n",
    "                 [under30_control, under30_test])\n",
    "pval, pval < 0.05"
   ]
  },
  {
   "cell_type": "markdown",
   "id": "79d9c617",
   "metadata": {},
   "source": [
    "Мы отклоняем H0. Значимая разница в **retention_7** обнаружена.\n",
    "\n",
    "p-value = 0.049, что ставит значимость такой разницы под сомнение.\n",
    "\n",
    "Думаю, что в результате трех этих тестов можно считать данные действительно случайно распределенными и однородными."
   ]
  },
  {
   "cell_type": "markdown",
   "id": "9c8954d6",
   "metadata": {},
   "source": [
    "## Анализ эффективности фичи"
   ]
  },
  {
   "cell_type": "markdown",
   "id": "0790fb5f",
   "metadata": {},
   "source": [
    "Теперь избавимся от пользователей, которые точно не прошли \"gate\"-уровень."
   ]
  },
  {
   "cell_type": "code",
   "execution_count": 241,
   "id": "c3f7e040",
   "metadata": {},
   "outputs": [
    {
     "data": {
      "text/html": [
       "<div>\n",
       "<style scoped>\n",
       "    .dataframe tbody tr th:only-of-type {\n",
       "        vertical-align: middle;\n",
       "    }\n",
       "\n",
       "    .dataframe tbody tr th {\n",
       "        vertical-align: top;\n",
       "    }\n",
       "\n",
       "    .dataframe thead th {\n",
       "        text-align: right;\n",
       "    }\n",
       "</style>\n",
       "<table border=\"1\" class=\"dataframe\">\n",
       "  <thead>\n",
       "    <tr style=\"text-align: right;\">\n",
       "      <th></th>\n",
       "      <th>userid</th>\n",
       "      <th>version</th>\n",
       "      <th>sum_gamerounds</th>\n",
       "      <th>retention_1</th>\n",
       "      <th>retention_7</th>\n",
       "    </tr>\n",
       "  </thead>\n",
       "  <tbody>\n",
       "    <tr>\n",
       "      <th>1</th>\n",
       "      <td>337</td>\n",
       "      <td>gate_30</td>\n",
       "      <td>38</td>\n",
       "      <td>True</td>\n",
       "      <td>False</td>\n",
       "    </tr>\n",
       "    <tr>\n",
       "      <th>2</th>\n",
       "      <td>377</td>\n",
       "      <td>gate_40</td>\n",
       "      <td>165</td>\n",
       "      <td>True</td>\n",
       "      <td>False</td>\n",
       "    </tr>\n",
       "    <tr>\n",
       "      <th>4</th>\n",
       "      <td>488</td>\n",
       "      <td>gate_40</td>\n",
       "      <td>179</td>\n",
       "      <td>True</td>\n",
       "      <td>True</td>\n",
       "    </tr>\n",
       "    <tr>\n",
       "      <th>5</th>\n",
       "      <td>540</td>\n",
       "      <td>gate_40</td>\n",
       "      <td>187</td>\n",
       "      <td>True</td>\n",
       "      <td>True</td>\n",
       "    </tr>\n",
       "    <tr>\n",
       "      <th>8</th>\n",
       "      <td>1574</td>\n",
       "      <td>gate_40</td>\n",
       "      <td>108</td>\n",
       "      <td>True</td>\n",
       "      <td>True</td>\n",
       "    </tr>\n",
       "    <tr>\n",
       "      <th>...</th>\n",
       "      <td>...</td>\n",
       "      <td>...</td>\n",
       "      <td>...</td>\n",
       "      <td>...</td>\n",
       "      <td>...</td>\n",
       "    </tr>\n",
       "    <tr>\n",
       "      <th>90171</th>\n",
       "      <td>9997757</td>\n",
       "      <td>gate_30</td>\n",
       "      <td>84</td>\n",
       "      <td>True</td>\n",
       "      <td>False</td>\n",
       "    </tr>\n",
       "    <tr>\n",
       "      <th>90175</th>\n",
       "      <td>9998125</td>\n",
       "      <td>gate_30</td>\n",
       "      <td>30</td>\n",
       "      <td>False</td>\n",
       "      <td>False</td>\n",
       "    </tr>\n",
       "    <tr>\n",
       "      <th>90177</th>\n",
       "      <td>9998376</td>\n",
       "      <td>gate_40</td>\n",
       "      <td>53</td>\n",
       "      <td>False</td>\n",
       "      <td>False</td>\n",
       "    </tr>\n",
       "    <tr>\n",
       "      <th>90184</th>\n",
       "      <td>9999441</td>\n",
       "      <td>gate_40</td>\n",
       "      <td>97</td>\n",
       "      <td>True</td>\n",
       "      <td>False</td>\n",
       "    </tr>\n",
       "    <tr>\n",
       "      <th>90187</th>\n",
       "      <td>9999768</td>\n",
       "      <td>gate_40</td>\n",
       "      <td>51</td>\n",
       "      <td>True</td>\n",
       "      <td>False</td>\n",
       "    </tr>\n",
       "  </tbody>\n",
       "</table>\n",
       "<p>30483 rows × 5 columns</p>\n",
       "</div>"
      ],
      "text/plain": [
       "        userid  version  sum_gamerounds  retention_1  retention_7\n",
       "1          337  gate_30              38         True        False\n",
       "2          377  gate_40             165         True        False\n",
       "4          488  gate_40             179         True         True\n",
       "5          540  gate_40             187         True         True\n",
       "8         1574  gate_40             108         True         True\n",
       "...        ...      ...             ...          ...          ...\n",
       "90171  9997757  gate_30              84         True        False\n",
       "90175  9998125  gate_30              30        False        False\n",
       "90177  9998376  gate_40              53        False        False\n",
       "90184  9999441  gate_40              97         True        False\n",
       "90187  9999768  gate_40              51         True        False\n",
       "\n",
       "[30483 rows x 5 columns]"
      ]
     },
     "execution_count": 241,
     "metadata": {},
     "output_type": "execute_result"
    }
   ],
   "source": [
    "updated_df = df[((df['version'] == 'gate_30') & (df['sum_gamerounds'] >= 30)) |\n",
    "  ((df['version'] == 'gate_40') & (df['sum_gamerounds'] >= 40))]\n",
    "updated_df"
   ]
  },
  {
   "cell_type": "code",
   "execution_count": 340,
   "id": "4948b95b",
   "metadata": {},
   "outputs": [
    {
     "data": {
      "text/html": [
       "<div>\n",
       "<style scoped>\n",
       "    .dataframe tbody tr th:only-of-type {\n",
       "        vertical-align: middle;\n",
       "    }\n",
       "\n",
       "    .dataframe tbody tr th {\n",
       "        vertical-align: top;\n",
       "    }\n",
       "\n",
       "    .dataframe thead tr th {\n",
       "        text-align: left;\n",
       "    }\n",
       "\n",
       "    .dataframe thead tr:last-of-type th {\n",
       "        text-align: right;\n",
       "    }\n",
       "</style>\n",
       "<table border=\"1\" class=\"dataframe\">\n",
       "  <thead>\n",
       "    <tr>\n",
       "      <th></th>\n",
       "      <th colspan=\"2\" halign=\"left\">userid</th>\n",
       "      <th colspan=\"6\" halign=\"left\">sum_gamerounds</th>\n",
       "      <th>retention_1</th>\n",
       "      <th>retention_7</th>\n",
       "    </tr>\n",
       "    <tr>\n",
       "      <th></th>\n",
       "      <th>count</th>\n",
       "      <th>nunique</th>\n",
       "      <th>mean</th>\n",
       "      <th>median</th>\n",
       "      <th>std</th>\n",
       "      <th>sum</th>\n",
       "      <th>min</th>\n",
       "      <th>max</th>\n",
       "      <th>mean</th>\n",
       "      <th>mean</th>\n",
       "    </tr>\n",
       "    <tr>\n",
       "      <th>version</th>\n",
       "      <th></th>\n",
       "      <th></th>\n",
       "      <th></th>\n",
       "      <th></th>\n",
       "      <th></th>\n",
       "      <th></th>\n",
       "      <th></th>\n",
       "      <th></th>\n",
       "      <th></th>\n",
       "      <th></th>\n",
       "    </tr>\n",
       "  </thead>\n",
       "  <tbody>\n",
       "    <tr>\n",
       "      <th>gate_30</th>\n",
       "      <td>13565</td>\n",
       "      <td>13565</td>\n",
       "      <td>142.048802</td>\n",
       "      <td>90.0</td>\n",
       "      <td>149.150827</td>\n",
       "      <td>1926892</td>\n",
       "      <td>40</td>\n",
       "      <td>2961</td>\n",
       "      <td>0.837670</td>\n",
       "      <td>0.502838</td>\n",
       "    </tr>\n",
       "    <tr>\n",
       "      <th>gate_40</th>\n",
       "      <td>13827</td>\n",
       "      <td>13827</td>\n",
       "      <td>142.667824</td>\n",
       "      <td>92.0</td>\n",
       "      <td>151.198353</td>\n",
       "      <td>1972668</td>\n",
       "      <td>40</td>\n",
       "      <td>2640</td>\n",
       "      <td>0.830187</td>\n",
       "      <td>0.485065</td>\n",
       "    </tr>\n",
       "  </tbody>\n",
       "</table>\n",
       "</div>"
      ],
      "text/plain": [
       "        userid         sum_gamerounds                                        \\\n",
       "         count nunique           mean median         std      sum min   max   \n",
       "version                                                                       \n",
       "gate_30  13565   13565     142.048802   90.0  149.150827  1926892  40  2961   \n",
       "gate_40  13827   13827     142.667824   92.0  151.198353  1972668  40  2640   \n",
       "\n",
       "        retention_1 retention_7  \n",
       "               mean        mean  \n",
       "version                          \n",
       "gate_30    0.837670    0.502838  \n",
       "gate_40    0.830187    0.485065  "
      ]
     },
     "execution_count": 340,
     "metadata": {},
     "output_type": "execute_result"
    }
   ],
   "source": [
    "updated_df.groupby('version').agg({'userid': ['count', 'nunique'],\n",
    "                          'sum_gamerounds': ['mean', 'median', 'std', 'sum', 'min', 'max'],\n",
    "                            'retention_1': 'mean',\n",
    "                               'retention_7': 'mean'})"
   ]
  },
  {
   "cell_type": "markdown",
   "id": "7728069c",
   "metadata": {},
   "source": [
    "Сводные данные сильно изменились в пользу тестовой группы, а выборки уже не такие равные. К сожалению, мы не можем убрать из контрольной группы всех игроков с **sum_gamerounds** < 40, потому что есть риск убрать тех, кто прошел \"gate\"-уровень."
   ]
  },
  {
   "cell_type": "code",
   "execution_count": 245,
   "id": "8d32d14a",
   "metadata": {},
   "outputs": [
    {
     "data": {
      "image/png": "[encoded data removed]",
      "text/plain": [
       "<Figure size 640x480 with 1 Axes>"
      ]
     },
     "metadata": {},
     "output_type": "display_data"
    }
   ],
   "source": [
    "sns.boxplot(updated_df, x='version', y='sum_gamerounds')\n",
    "plt.title('Количество сыгранных игр по группам');"
   ]
  },
  {
   "cell_type": "markdown",
   "id": "21abade6",
   "metadata": {},
   "source": [
    "Посмотрим на этот выброс."
   ]
  },
  {
   "cell_type": "code",
   "execution_count": 242,
   "id": "83372be7",
   "metadata": {},
   "outputs": [
    {
     "data": {
      "text/html": [
       "<div>\n",
       "<style scoped>\n",
       "    .dataframe tbody tr th:only-of-type {\n",
       "        vertical-align: middle;\n",
       "    }\n",
       "\n",
       "    .dataframe tbody tr th {\n",
       "        vertical-align: top;\n",
       "    }\n",
       "\n",
       "    .dataframe thead th {\n",
       "        text-align: right;\n",
       "    }\n",
       "</style>\n",
       "<table border=\"1\" class=\"dataframe\">\n",
       "  <thead>\n",
       "    <tr style=\"text-align: right;\">\n",
       "      <th></th>\n",
       "      <th>userid</th>\n",
       "      <th>version</th>\n",
       "      <th>sum_gamerounds</th>\n",
       "      <th>retention_1</th>\n",
       "      <th>retention_7</th>\n",
       "    </tr>\n",
       "  </thead>\n",
       "  <tbody>\n",
       "    <tr>\n",
       "      <th>57702</th>\n",
       "      <td>6390605</td>\n",
       "      <td>gate_30</td>\n",
       "      <td>49854</td>\n",
       "      <td>False</td>\n",
       "      <td>True</td>\n",
       "    </tr>\n",
       "  </tbody>\n",
       "</table>\n",
       "</div>"
      ],
      "text/plain": [
       "        userid  version  sum_gamerounds  retention_1  retention_7\n",
       "57702  6390605  gate_30           49854        False         True"
      ]
     },
     "execution_count": 242,
     "metadata": {},
     "output_type": "execute_result"
    }
   ],
   "source": [
    "updated_df[updated_df['sum_gamerounds'] > 10000]"
   ]
  },
  {
   "cell_type": "markdown",
   "id": "060c927c",
   "metadata": {},
   "source": [
    "Даже если тратить на один уровень 30 секунд и играть круглосуточно без остановки, то для того, чтобы сыграть 49854 раунда, необходимо более 17 суток. Уберем этот выброс."
   ]
  },
  {
   "cell_type": "code",
   "execution_count": 243,
   "id": "96e2d0fc",
   "metadata": {},
   "outputs": [],
   "source": [
    "updated_df = updated_df[updated_df['sum_gamerounds'] < 10000]"
   ]
  },
  {
   "cell_type": "code",
   "execution_count": 314,
   "id": "e79a6a54",
   "metadata": {},
   "outputs": [
    {
     "data": {
      "image/png": "[encoded data removed]",
      "text/plain": [
       "<Figure size 800x600 with 2 Axes>"
      ]
     },
     "metadata": {},
     "output_type": "display_data"
    },
    {
     "data": {
      "image/png": "[encoded data removed]",
      "text/plain": [
       "<Figure size 1600x600 with 1 Axes>"
      ]
     },
     "metadata": {},
     "output_type": "display_data"
    }
   ],
   "source": [
    "plt.figure(figsize=(8, 6), layout='tight')\n",
    "\n",
    "plt.subplot(2, 2, 1)\n",
    "sns.boxplot(updated_df, x='version', y='sum_gamerounds')\n",
    "plt.title('Количество сыгранных игр \\n по группам')\n",
    "\n",
    "plt.subplot(2, 2, 2)\n",
    "sns.boxplot(updated_df[updated_df['sum_gamerounds'] <= 500], x='version', y='sum_gamerounds')\n",
    "plt.title('Количество сыгранных игр (<= 500) \\n по группам')\n",
    "\n",
    "plt.figure(figsize=(16, 6), layout='tight')\n",
    "plt.subplot(2, 2, 3)\n",
    "sns.histplot(updated_df[updated_df['sum_gamerounds'] < 500],\n",
    "             x='sum_gamerounds', hue='version', discrete=True)\n",
    "plt.title('Количество сыгранных игр (<= 500) по группам')\n",
    "\n",
    "plt.show()"
   ]
  },
  {
   "cell_type": "markdown",
   "id": "b526ad71",
   "metadata": {},
   "source": [
    "На первом боксплоте почти не видно разницы между группами, поэтому я нарисовал второй с меньшим числом вбросов, однако от выбросов мы не можем избавиться, потому что 3000 минутных игр за неделю - вполне реальная цифра."
   ]
  },
  {
   "cell_type": "markdown",
   "id": "a2bddb00",
   "metadata": {},
   "source": [
    "По гистограмме мы еще раз убеждаемся в том, как плохо собраны данные. Брать в учет 30 <= **sum_gamerounds** < 40 для контрольной группы будет ошибкой, это слишком сильно сместит нашу оценку. Путем наименьших жертв мы пожертвуем частью пользователей из котнрольной группы, которее, вероятно, прошли \"gate\"-уровень.\n",
    "\n",
    "Продолжим анализ, убрав их."
   ]
  },
  {
   "cell_type": "code",
   "execution_count": 330,
   "id": "ebb5ccbf",
   "metadata": {},
   "outputs": [],
   "source": [
    "above40 = updated_df[updated_df['sum_gamerounds'] > 39].sort_values(by='version')"
   ]
  },
  {
   "cell_type": "code",
   "execution_count": 331,
   "id": "7e926bd6",
   "metadata": {},
   "outputs": [
    {
     "data": {
      "text/html": [
       "<div>\n",
       "<style scoped>\n",
       "    .dataframe tbody tr th:only-of-type {\n",
       "        vertical-align: middle;\n",
       "    }\n",
       "\n",
       "    .dataframe tbody tr th {\n",
       "        vertical-align: top;\n",
       "    }\n",
       "\n",
       "    .dataframe thead tr th {\n",
       "        text-align: left;\n",
       "    }\n",
       "\n",
       "    .dataframe thead tr:last-of-type th {\n",
       "        text-align: right;\n",
       "    }\n",
       "</style>\n",
       "<table border=\"1\" class=\"dataframe\">\n",
       "  <thead>\n",
       "    <tr>\n",
       "      <th></th>\n",
       "      <th colspan=\"2\" halign=\"left\">userid</th>\n",
       "      <th colspan=\"6\" halign=\"left\">sum_gamerounds</th>\n",
       "      <th>retention_1</th>\n",
       "      <th>retention_7</th>\n",
       "    </tr>\n",
       "    <tr>\n",
       "      <th></th>\n",
       "      <th>count</th>\n",
       "      <th>nunique</th>\n",
       "      <th>mean</th>\n",
       "      <th>median</th>\n",
       "      <th>std</th>\n",
       "      <th>sum</th>\n",
       "      <th>min</th>\n",
       "      <th>max</th>\n",
       "      <th>mean</th>\n",
       "      <th>mean</th>\n",
       "    </tr>\n",
       "    <tr>\n",
       "      <th>version</th>\n",
       "      <th></th>\n",
       "      <th></th>\n",
       "      <th></th>\n",
       "      <th></th>\n",
       "      <th></th>\n",
       "      <th></th>\n",
       "      <th></th>\n",
       "      <th></th>\n",
       "      <th></th>\n",
       "      <th></th>\n",
       "    </tr>\n",
       "  </thead>\n",
       "  <tbody>\n",
       "    <tr>\n",
       "      <th>gate_30</th>\n",
       "      <td>13565</td>\n",
       "      <td>13565</td>\n",
       "      <td>142.048802</td>\n",
       "      <td>90.0</td>\n",
       "      <td>149.150827</td>\n",
       "      <td>1926892</td>\n",
       "      <td>40</td>\n",
       "      <td>2961</td>\n",
       "      <td>0.837670</td>\n",
       "      <td>0.502838</td>\n",
       "    </tr>\n",
       "    <tr>\n",
       "      <th>gate_40</th>\n",
       "      <td>13827</td>\n",
       "      <td>13827</td>\n",
       "      <td>142.667824</td>\n",
       "      <td>92.0</td>\n",
       "      <td>151.198353</td>\n",
       "      <td>1972668</td>\n",
       "      <td>40</td>\n",
       "      <td>2640</td>\n",
       "      <td>0.830187</td>\n",
       "      <td>0.485065</td>\n",
       "    </tr>\n",
       "  </tbody>\n",
       "</table>\n",
       "</div>"
      ],
      "text/plain": [
       "        userid         sum_gamerounds                                        \\\n",
       "         count nunique           mean median         std      sum min   max   \n",
       "version                                                                       \n",
       "gate_30  13565   13565     142.048802   90.0  149.150827  1926892  40  2961   \n",
       "gate_40  13827   13827     142.667824   92.0  151.198353  1972668  40  2640   \n",
       "\n",
       "        retention_1 retention_7  \n",
       "               mean        mean  \n",
       "version                          \n",
       "gate_30    0.837670    0.502838  \n",
       "gate_40    0.830187    0.485065  "
      ]
     },
     "execution_count": 331,
     "metadata": {},
     "output_type": "execute_result"
    }
   ],
   "source": [
    "above40.groupby('version').agg({'userid': ['count', 'nunique'],\n",
    "                          'sum_gamerounds': ['mean', 'median', 'std', 'sum', 'min', 'max'],\n",
    "                            'retention_1': 'mean',\n",
    "                               'retention_7': 'mean'})"
   ]
  },
  {
   "cell_type": "code",
   "execution_count": 334,
   "id": "0a974f15",
   "metadata": {},
   "outputs": [
    {
     "data": {
      "image/png": "[encoded data removed]",
      "text/plain": [
       "<Figure size 800x1000 with 2 Axes>"
      ]
     },
     "metadata": {},
     "output_type": "display_data"
    },
    {
     "data": {
      "image/png": "[encoded data removed]",
      "text/plain": [
       "<Figure size 1600x800 with 1 Axes>"
      ]
     },
     "metadata": {},
     "output_type": "display_data"
    }
   ],
   "source": [
    "plt.figure(figsize=(8, 10), layout='tight')\n",
    "plt.subplot(3, 2, 1)\n",
    "sns.barplot(above40, x='version', y='retention_1')\n",
    "plt.title('RetentionRate 1 день для пользователей \\n сыгравших 40 игр и более')\n",
    "\n",
    "plt.subplot(3, 2, 2)\n",
    "sns.barplot(above40, x='version', y='retention_7')\n",
    "plt.title('RetentionRate 7 дней для пользователей \\n сыгравших 40 игр и более')\n",
    "\n",
    "plt.figure(figsize=(16, 8), layout='tight')\n",
    "plt.subplot(3, 2, 5)\n",
    "sns.histplot(above40[above40['sum_gamerounds'] <= 500], x='sum_gamerounds', hue='version', discrete=True)\n",
    "plt.title('Пользователи, сыгравшие от 40 до 500 игр');"
   ]
  },
  {
   "cell_type": "markdown",
   "id": "f415b7e7",
   "metadata": {},
   "source": [
    "Приступим к тестам, для начала как всегда проверим из нормального ли распределения пришли данные (это вряд ли)."
   ]
  },
  {
   "cell_type": "markdown",
   "id": "b7edd9b9",
   "metadata": {},
   "source": [
    "**H0:** Средняя sum_gamerounds (gate_30) = Средняя sum_gamerounds (gate_40)\n",
    "\n",
    "**H1:** Средняя sum_gamerounds (gate_30) != Средняя sum_gamerounds (gate_40)"
   ]
  },
  {
   "cell_type": "code",
   "execution_count": 336,
   "id": "ff6998d9",
   "metadata": {},
   "outputs": [
    {
     "data": {
      "text/plain": [
       "(0.0, True)"
      ]
     },
     "execution_count": 336,
     "metadata": {},
     "output_type": "execute_result"
    }
   ],
   "source": [
    "_, pval = stats.shapiro(above40['sum_gamerounds'])\n",
    "pval, pval < 0.05"
   ]
  },
  {
   "cell_type": "markdown",
   "id": "1d45f8dd",
   "metadata": {},
   "source": [
    "Отклоняем H0, распределение не нормальное."
   ]
  },
  {
   "cell_type": "markdown",
   "id": "f8aa66b1",
   "metadata": {},
   "source": [
    "Я буду снова использовать U-тест Манна-Уитни."
   ]
  },
  {
   "cell_type": "code",
   "execution_count": 337,
   "id": "9d1d42f3",
   "metadata": {},
   "outputs": [
    {
     "data": {
      "text/plain": [
       "(0.05758122336308788, False)"
      ]
     },
     "execution_count": 337,
     "metadata": {},
     "output_type": "execute_result"
    }
   ],
   "source": [
    "above40_rounds_control = above40[above40['version'] == 'gate_30']['sum_gamerounds']\n",
    "above40_rounds_test = above40[above40['version'] == 'gate_40']['sum_gamerounds']\n",
    "\n",
    "_, pval = stats.mannwhitneyu(above40_rounds_control, above40_rounds_test)\n",
    "pval, pval < 0.05"
   ]
  },
  {
   "cell_type": "markdown",
   "id": "88ebb6c9",
   "metadata": {},
   "source": [
    "Мы не отклоняем H0. Значимой разницы в количестве пройденных уровней не обнаружено."
   ]
  },
  {
   "cell_type": "markdown",
   "id": "1ffe2d9b",
   "metadata": {},
   "source": [
    "Теперь сравним еще разницу в ретеншенах."
   ]
  },
  {
   "cell_type": "markdown",
   "id": "1137d7c2",
   "metadata": {},
   "source": [
    "**H0:** retention_1 (gate_30) = retention_1 (gate_40)\n",
    "\n",
    "**H1:** retention_1 (gate_30) != retention_1 (gate_40)"
   ]
  },
  {
   "cell_type": "code",
   "execution_count": 338,
   "id": "edc95996",
   "metadata": {},
   "outputs": [
    {
     "data": {
      "text/plain": [
       "(0.09615474103646639, False)"
      ]
     },
     "execution_count": 338,
     "metadata": {},
     "output_type": "execute_result"
    }
   ],
   "source": [
    "above40_retention1_control = above40[above40['version'] == 'gate_30']['retention_1'].sum()\n",
    "above40_retention1_test = above40[above40['version'] == 'gate_40']['retention_1'].sum()\n",
    "\n",
    "above40_control = len(above40[above40['version'] == 'gate_30'])\n",
    "above40_test = len(above40[above40['version'] == 'gate_40'])\n",
    "\n",
    "_, pval = proportions_ztest([above40_retention1_control, above40_retention1_test],\n",
    "                 [above40_control, above40_test])\n",
    "pval, pval < 0.05"
   ]
  },
  {
   "cell_type": "markdown",
   "id": "a9322faf",
   "metadata": {},
   "source": [
    "Мы не отклоняем H0. Значимой разницы в **retention_1** не обнаружено."
   ]
  },
  {
   "cell_type": "markdown",
   "id": "bedd20bd",
   "metadata": {},
   "source": [
    "**H0:** retention_7 (gate_30) = retention_7 (gate_40)\n",
    "\n",
    "**H1:** retention_7 (gate_30) != retention_7 (gate_40)"
   ]
  },
  {
   "cell_type": "code",
   "execution_count": 339,
   "id": "fb5fcd03",
   "metadata": {},
   "outputs": [
    {
     "data": {
      "text/plain": [
       "(0.0032655478429167635, True)"
      ]
     },
     "execution_count": 339,
     "metadata": {},
     "output_type": "execute_result"
    }
   ],
   "source": [
    "above40_retention7_control = above40[above40['version'] == 'gate_30']['retention_7'].sum()\n",
    "above40_retention7_test = above40[above40['version'] == 'gate_40']['retention_7'].sum()\n",
    "\n",
    "_, pval = proportions_ztest([above40_retention7_control, above40_retention7_test],\n",
    "                 [above40_control, above40_test])\n",
    "pval, pval < 0.05"
   ]
  },
  {
   "cell_type": "markdown",
   "id": "e7817933",
   "metadata": {},
   "source": [
    "Мы отклоняем H0. Значимая разница в **retention_7** обнаружена."
   ]
  },
  {
   "cell_type": "markdown",
   "id": "a4b62cd6",
   "metadata": {},
   "source": [
    "## Заключение"
   ]
  },
  {
   "cell_type": "markdown",
   "id": "056d09b2",
   "metadata": {},
   "source": [
    "В нашем эксперименте мы увидели, что пользователи тестовой группы в среднем стали чуть больше играть (не стат. значимо), однако **retention** в течение первых 24 часов после скачивания немного упал (не стат. значимо), а **retention** через неделю после скачивания упал ощутимо (стат. значимо).\n",
    "\n",
    "Неизвестно, как это изменение могло бы повлиять на прибыль, поэтому отталкиваясь от показателя возвращаемости пользователей, я не рекомендую раскатывать эту фичу."
   ]
  }
 ],
 "metadata": {
  "kernelspec": {
   "display_name": "Python 3 (ipykernel)",
   "language": "python",
   "name": "python3"
  },
  "language_info": {
   "codemirror_mode": {
    "name": "ipython",
    "version": 3
   },
   "file_extension": ".py",
   "mimetype": "text/x-python",
   "name": "python",
   "nbconvert_exporter": "python",
   "pygments_lexer": "ipython3",
   "version": "3.11.2"
  }
 },
 "nbformat": 4,
 "nbformat_minor": 5
}
